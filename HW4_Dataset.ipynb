{
 "cells": [
  {
   "metadata": {},
   "cell_type": "markdown",
   "source": "# Preparing Data",
   "id": "b2c434a04e97305e"
  },
  {
   "cell_type": "code",
   "id": "initial_id",
   "metadata": {
    "collapsed": true,
    "ExecuteTime": {
     "end_time": "2024-07-21T14:44:32.359396Z",
     "start_time": "2024-07-21T14:44:30.019973Z"
    }
   },
   "source": [
    "import configparser\n",
    "import os\n",
    "import pandas as pd\n",
    "import re\n",
    "from hazm import Normalizer\n",
    "from tqdm.notebook import tqdm"
   ],
   "outputs": [],
   "execution_count": 23
  },
  {
   "metadata": {},
   "cell_type": "markdown",
   "source": "## X Tweets",
   "id": "47550a78766f1c8e"
  },
  {
   "metadata": {},
   "cell_type": "markdown",
   "source": "With help of [this link](https://github.com/godkingjay/selenium-twitter-scraper).",
   "id": "e38849d7473860c2"
  },
  {
   "metadata": {
    "ExecuteTime": {
     "end_time": "2024-07-21T12:35:25.352009Z",
     "start_time": "2024-07-21T12:35:25.344778Z"
    }
   },
   "cell_type": "code",
   "source": [
    "config = configparser.ConfigParser()\n",
    "config.read('.env')\n",
    "config = config['TWITTER']\n",
    "config"
   ],
   "id": "9d777407ff862e1f",
   "outputs": [
    {
     "data": {
      "text/plain": [
       "<Section: TWITTER>"
      ]
     },
     "execution_count": 22,
     "metadata": {},
     "output_type": "execute_result"
    }
   ],
   "execution_count": 22
  },
  {
   "metadata": {
    "ExecuteTime": {
     "end_time": "2024-07-21T12:35:35.761079Z",
     "start_time": "2024-07-21T12:35:35.756643Z"
    }
   },
   "cell_type": "code",
   "source": [
    "try:\n",
    "    os.makedirs('data/tweets')\n",
    "except FileExistsError:\n",
    "    print('Directory already exists')\n",
    "os.chdir('selenium-twitter-scraper')\n",
    "\n",
    "base_command = f'python scraper --user=@{config[\"TWITTER_USERNAME\"]} --password={config[\"TWITTER_PASSWORD\"]} --top '"
   ],
   "id": "938d9f0f5d3a58d1",
   "outputs": [
    {
     "name": "stdout",
     "output_type": "stream",
     "text": [
      "tweets directory already exists\n"
     ]
    }
   ],
   "execution_count": 24
  },
  {
   "metadata": {
    "ExecuteTime": {
     "end_time": "2024-07-21T11:19:58.454457Z",
     "start_time": "2024-07-21T11:18:44.619397Z"
    }
   },
   "cell_type": "code",
   "source": "os.system(base_command + '--tweets 150 --query \"فمنیست\"')",
   "id": "1d09934eb8c75ea8",
   "outputs": [
    {
     "name": "stdout",
     "output_type": "stream",
     "text": [
      "Loading .env file\n",
      "Loaded .env file\n",
      "\n",
      "\n",
      "Initializing Twitter Scraper...\n",
      "Setup WebDriver...\n",
      "Initializing FirefoxDriver...\n",
      "WebDriver Setup Complete\n",
      "\n",
      "Logging in to Twitter...\n",
      "Re-attempting to input username...\n",
      "\n",
      "Login Successful\n",
      "\n",
      "Scraping Top Tweets from فمنیست search...\n",
      "Progress: [[========================----------------]] 61.33% 92 of 150                                                  \n",
      "No more tweets to scrape\n",
      "\n",
      "Scraping Incomplete\n",
      "Tweets: 92 out of 150\n",
      "\n",
      "Saving Tweets to CSV...\n",
      "CSV Saved: ./tweets/2024-07-21_14-49-57_tweets_1-92.csv\n"
     ]
    },
    {
     "data": {
      "text/plain": [
       "256"
      ]
     },
     "execution_count": 9,
     "metadata": {},
     "output_type": "execute_result"
    }
   ],
   "execution_count": 9
  },
  {
   "metadata": {
    "ExecuteTime": {
     "end_time": "2024-07-21T11:21:54.067671Z",
     "start_time": "2024-07-21T11:19:58.460574Z"
    }
   },
   "cell_type": "code",
   "source": "os.system(base_command + '--tweets 150 --query \"فقط زن\"')",
   "id": "112cf46609bc2f9a",
   "outputs": [
    {
     "name": "stdout",
     "output_type": "stream",
     "text": [
      "Loading .env file\n",
      "Loaded .env file\n",
      "\n",
      "\n",
      "Initializing Twitter Scraper...\n",
      "Setup WebDriver...\n",
      "Initializing FirefoxDriver...\n",
      "WebDriver Setup Complete\n",
      "\n",
      "Logging in to Twitter...\n",
      "\n",
      "Login Successful\n",
      "\n",
      "Scraping Top Tweets from فقط زن search...\n",
      "Progress: [[=====-----------------------------------]] 13.33% 20 of 150                                                  \n",
      "No more tweets to scrape\n",
      "\n",
      "Scraping Incomplete\n",
      "Tweets: 20 out of 150\n",
      "\n",
      "Saving Tweets to CSV...\n",
      "CSV Saved: ./tweets/2024-07-21_14-51-51_tweets_1-20.csv\n"
     ]
    },
    {
     "data": {
      "text/plain": [
       "256"
      ]
     },
     "execution_count": 10,
     "metadata": {},
     "output_type": "execute_result"
    }
   ],
   "execution_count": 10
  },
  {
   "metadata": {
    "ExecuteTime": {
     "end_time": "2024-07-21T11:24:24.419060Z",
     "start_time": "2024-07-21T11:21:54.069779Z"
    }
   },
   "cell_type": "code",
   "source": "os.system(base_command + '--tweets 150 --query \"فقط مرد\"')",
   "id": "949efe83723f4475",
   "outputs": [
    {
     "name": "stdout",
     "output_type": "stream",
     "text": [
      "Loading .env file\n",
      "Loaded .env file\n",
      "\n",
      "\n",
      "Initializing Twitter Scraper...\n",
      "Setup WebDriver...\n",
      "Initializing FirefoxDriver...\n",
      "WebDriver Setup Complete\n",
      "\n",
      "Logging in to Twitter...\n",
      "\n",
      "Login Successful\n",
      "\n",
      "Scraping Top Tweets from فقط مرد search...\n",
      "Progress: [[=====================================---]] 94.00% 141 of 150                                                  \n",
      "No more tweets to scrape\n",
      "\n",
      "Scraping Incomplete\n",
      "Tweets: 141 out of 150\n",
      "\n",
      "Saving Tweets to CSV...\n",
      "CSV Saved: ./tweets/2024-07-21_14-54-23_tweets_1-141.csv\n"
     ]
    },
    {
     "data": {
      "text/plain": [
       "256"
      ]
     },
     "execution_count": 11,
     "metadata": {},
     "output_type": "execute_result"
    }
   ],
   "execution_count": 11
  },
  {
   "metadata": {
    "ExecuteTime": {
     "end_time": "2024-07-21T11:35:17.713604Z",
     "start_time": "2024-07-21T11:33:18.812399Z"
    }
   },
   "cell_type": "code",
   "source": "os.system(base_command + '--tweets 150 --query \"فقط پسر\"')",
   "id": "12e3e2a6064b5078",
   "outputs": [
    {
     "name": "stdout",
     "output_type": "stream",
     "text": [
      "Loading .env file\n",
      "Loaded .env file\n",
      "\n",
      "\n",
      "Initializing Twitter Scraper...\n",
      "Setup WebDriver...\n",
      "Initializing FirefoxDriver...\n",
      "WebDriver Setup Complete\n",
      "\n",
      "Logging in to Twitter...\n",
      "\n",
      "Login Successful\n",
      "\n",
      "Scraping Top Tweets from فقط پسر search...\n",
      "Progress: [[===========-----------------------------]] 28.00% 42 of 150                                                  \n",
      "No more tweets to scrape\n",
      "\n",
      "Scraping Incomplete\n",
      "Tweets: 42 out of 150\n",
      "\n",
      "Saving Tweets to CSV...\n",
      "CSV Saved: ./tweets/2024-07-21_15-05-16_tweets_1-42.csv\n"
     ]
    },
    {
     "data": {
      "text/plain": [
       "256"
      ]
     },
     "execution_count": 12,
     "metadata": {},
     "output_type": "execute_result"
    }
   ],
   "execution_count": 12
  },
  {
   "metadata": {
    "ExecuteTime": {
     "end_time": "2024-07-21T11:39:38.594994Z",
     "start_time": "2024-07-21T11:38:51.018025Z"
    }
   },
   "cell_type": "code",
   "source": "os.system(base_command + '--tweets 150 --query \"فقط دختر\"')",
   "id": "4855e083fc0cf3ce",
   "outputs": [
    {
     "name": "stdout",
     "output_type": "stream",
     "text": [
      "Loading .env file\n",
      "Loaded .env file\n",
      "\n",
      "\n",
      "Initializing Twitter Scraper...\n",
      "Setup WebDriver...\n",
      "Initializing FirefoxDriver...\n",
      "WebDriver Setup Complete\n",
      "\n",
      "Logging in to Twitter...\n",
      "\n",
      "Login Successful\n",
      "\n",
      "Scraping Top Tweets from فقط دختر search...\n",
      "Progress: [[=---------------------------------------]] 2.67% 4 of 150                                                  \n",
      "No more tweets to scrape\n",
      "\n",
      "Scraping Incomplete\n",
      "Tweets: 4 out of 150\n",
      "\n",
      "Saving Tweets to CSV...\n",
      "CSV Saved: ./tweets/2024-07-21_15-09-37_tweets_1-4.csv\n"
     ]
    },
    {
     "data": {
      "text/plain": [
       "256"
      ]
     },
     "execution_count": 17,
     "metadata": {},
     "output_type": "execute_result"
    }
   ],
   "execution_count": 17
  },
  {
   "metadata": {
    "ExecuteTime": {
     "end_time": "2024-07-21T12:36:01.671892Z",
     "start_time": "2024-07-21T12:36:01.650706Z"
    }
   },
   "cell_type": "code",
   "source": [
    "os.system('cp -r tweets ../data')\n",
    "os.chdir('..')"
   ],
   "id": "7ed4d94cbf1fa7b3",
   "outputs": [],
   "execution_count": 25
  },
  {
   "metadata": {
    "ExecuteTime": {
     "end_time": "2024-07-21T12:25:01.741564Z",
     "start_time": "2024-07-21T12:25:01.734026Z"
    }
   },
   "cell_type": "code",
   "source": [
    "tweets_files = os.listdir('tweets')\n",
    "tweets_files = [tweets_file for tweets_file in tweets_files if tweets_file.endswith('.csv')]\n",
    "tweets_files = sorted(tweets_files)\n",
    "tweets_files"
   ],
   "id": "c0c18ab5c4b0c2ab",
   "outputs": [
    {
     "data": {
      "text/plain": [
       "['2024-07-21_14-49-57_tweets_1-92.csv',\n",
       " '2024-07-21_14-51-51_tweets_1-20.csv',\n",
       " '2024-07-21_14-54-23_tweets_1-141.csv',\n",
       " '2024-07-21_15-05-16_tweets_1-42.csv',\n",
       " '2024-07-21_15-09-37_tweets_1-4.csv']"
      ]
     },
     "execution_count": 2,
     "metadata": {},
     "output_type": "execute_result"
    }
   ],
   "execution_count": 2
  },
  {
   "metadata": {
    "ExecuteTime": {
     "end_time": "2024-07-18T12:04:54.790665Z",
     "start_time": "2024-07-18T12:04:54.748490Z"
    }
   },
   "cell_type": "code",
   "source": [
    "tweets = []\n",
    "\n",
    "for tweets_file in tweets_files:\n",
    "    current_file = pd.read_csv(f'tweets/{tweets_file}')\n",
    "    current_file = current_file['Content'].tolist()\n",
    "    tweets += current_file\n",
    "\n",
    "tweets"
   ],
   "id": "89137a5b112df400",
   "outputs": [
    {
     "data": {
      "text/plain": [
       "['زنان #فمنیست',\n",
       " 'عرض ادب به #فمنیست های از «تورک بودن خود شرمنده» آزربایجان ',\n",
       " 'تیپیکال #لیبرال و #فمنیست و #چپ...!',\n",
       " '#حقوق_زنان در فرقه منحوس #رجوی#فمنیست ها و مدعیان حقوق زن چرا صداشون در نمیاد#Palestine',\n",
       " 'پاچه گرفتن از صفات بارز #فمنیست هاست ',\n",
       " 'حالا پس از یکسال،علینژاد نه تنها انصراف نداده بلکه با تاسیس یک موسسه بهمراه نازنین بنیادی و زکا و چند تن دیگر،راه دریافت غرامت را سهل نموده تا نشان دهد، #زن_زندگى_آزادى فقط یک کاسبی بود و بس\\nمعلوم نیست چی میزنه این ریختی شده',\n",
       " 'خونه بدون زن این شکلیه، فقط کافیه\\u200c تمیزگونه زندگی کنیم!',\n",
       " 'فقط یک زن می\\u200cتواند اینقدر مهربان باشد!\\n\\nزنان هزارستان باید سطح جهان احترام و حرمت شود.\\n\\nمادر\\u200c معنوی مهاجران. تولدت مبارک خانوم مرکل',\n",
       " '۲۱ نکته Dark روان زنانرشتو۱- گریه کردن مقابل یک دختر مانند خونریزی در مقابل کوسه است ۲- اگر میخواید یک دختر بشناسید به رفتارش نگاه کنید نه گفتارش ( چون اکثر اوقات دروغ میگن ) \\n۳-اگر میخواید در بحث و جدل با یک زن پیروز بشید فقط سکوت کنید و نتیجه حیرت انگیزش ببینید',\n",
       " 'خواستین بفهمین برای یه زن چقدر مهمین به این توجه کنید\\u200cکه زن\\u200cها اگر یکی رو بخوان براشون\\u200cمهم نیست زن داره دوست دختر داره بچه داره شکمش گنده است بوی عرق می\\u200cده کچله بی\\u200cسواده فقط کافیه بخوان … بقیه حرفا *س و شعره برای حفظ ظاهر \\n\\n(عکس تزئینی است)',\n",
       " 'مرد فقط ایک غسل سے  پاک ہو جاتا ہے۔\\nصدیوں مثال بنتا ہے بنتِ ہوا کا ماضی#اردو_زبان',\n",
       " 'فقط کافیه مرد نباشی و شیعه !\\n\\nتبریک میگم شما الان ۱۰ امتیاز تو کابینه رئیس جمهور سایه(ظریف) داری :)',\n",
       " 'توییتی بسیار زیبا و آموزنده از امین آقا، مهندس سازه\\u200cی مملکت. فقط یه\\u200cچیزی، یک مرد واقعی قبل از همه\\u200cی این چیزا املای انگلیسیش رو تقویت می\\u200cکنه.\\nDesinger :)))))))))',\n",
       " 'مولان؛ خودش را به شکل یک مرد جا می\\u200cزند و تصمیم می\\u200cگیرد به جای پدرش به خدمت اجباری برود. شجاعت مولان بعد از این تصمیم به سرعت به محک گذاشته می\\u200cشود اما او موفق می\\u200cشود دشمنانش را فقط با شجاعت شکست بدهد.',\n",
       " 'آیا اسلام به مرد و زن صادر شده یا فقط برای زنان  ؟ وقتی زن تجاوز گروهی میشود کجاست ملا وقتی پیش چشم شوهرش تجاوز میشود کجاست ملا حق تعلیم ندارن کجاست ملا در زندان زنان برهنه میشوند کجاست ملا ؟ یا اسلام فقط برای زن است .وقتی یک ملایی کثیف لواطت میکند با بچه ها کجاست اسلام ملا ها ؟']"
      ]
     },
     "execution_count": 10,
     "metadata": {},
     "output_type": "execute_result"
    }
   ],
   "execution_count": 10
  },
  {
   "metadata": {
    "ExecuteTime": {
     "end_time": "2024-07-18T12:06:57.589301Z",
     "start_time": "2024-07-18T12:06:57.586209Z"
    }
   },
   "cell_type": "code",
   "source": "# pd.DataFrame(tweets).to_csv('tweets/tweets_all.csv', index=False)",
   "id": "47ccc86273daadf8",
   "outputs": [],
   "execution_count": 15
  },
  {
   "metadata": {
    "ExecuteTime": {
     "end_time": "2024-07-18T12:06:57.824049Z",
     "start_time": "2024-07-18T12:06:57.819896Z"
    }
   },
   "cell_type": "code",
   "source": [
    "# tweets = pd.read_csv('tweets/tweets_all.csv')['0'].tolist()\n",
    "# tweets"
   ],
   "id": "fddb8f7be6c37389",
   "outputs": [],
   "execution_count": 16
  },
  {
   "metadata": {},
   "cell_type": "markdown",
   "source": "## ChatGPT",
   "id": "af24a5c9530b8dbe"
  },
  {
   "metadata": {
    "ExecuteTime": {
     "end_time": "2024-07-21T14:44:04.402313Z",
     "start_time": "2024-07-21T14:44:04.392796Z"
    }
   },
   "cell_type": "code",
   "source": [
    "directory = 'data/chatgpt'\n",
    "\n",
    "biased_files = [\n",
    "    'Bias1.txt'\n",
    "]\n",
    "\n",
    "unbiased_files = [\n",
    "    'NoBias1.txt'\n",
    "]"
   ],
   "id": "a36a4a249a8d3810",
   "outputs": [],
   "execution_count": 11
  },
  {
   "metadata": {
    "ExecuteTime": {
     "end_time": "2024-07-21T14:44:05.525654Z",
     "start_time": "2024-07-21T14:44:05.493218Z"
    }
   },
   "cell_type": "code",
   "source": [
    "biased_chatgpt = []\n",
    "unbiased_chatgpt = []\n",
    "\n",
    "for file in biased_files:\n",
    "    with open(f'{directory}/{file}', 'r', encoding='utf-8') as file:\n",
    "        current_data = file.read().split('\\n\\n')\n",
    "        biased_chatgpt += current_data\n",
    "\n",
    "for file in unbiased_files:\n",
    "    with open(f'{directory}/{file}', 'r', encoding='utf-8') as file:\n",
    "        current_data = file.read().split('\\n')\n",
    "        unbiased_chatgpt += current_data\n",
    "\n",
    "        \n",
    "len(biased_chatgpt), len(unbiased_chatgpt)"
   ],
   "id": "451f6cfaf3c23037",
   "outputs": [
    {
     "data": {
      "text/plain": [
       "(119, 50)"
      ]
     },
     "execution_count": 12,
     "metadata": {},
     "output_type": "execute_result"
    }
   ],
   "execution_count": 12
  },
  {
   "metadata": {},
   "cell_type": "markdown",
   "source": "## Internet",
   "id": "582ce9112094f9df"
  },
  {
   "metadata": {
    "ExecuteTime": {
     "end_time": "2024-07-21T14:44:06.922338Z",
     "start_time": "2024-07-21T14:44:06.917225Z"
    }
   },
   "cell_type": "code",
   "source": "",
   "id": "a30bd87391c45a6c",
   "outputs": [],
   "execution_count": 12
  },
  {
   "metadata": {},
   "cell_type": "markdown",
   "source": "# Reformat Data",
   "id": "24ffbd261870dc84"
  },
  {
   "metadata": {
    "ExecuteTime": {
     "end_time": "2024-07-21T14:44:07.467903Z",
     "start_time": "2024-07-21T14:44:07.450904Z"
    }
   },
   "cell_type": "code",
   "source": "data = []",
   "id": "fea94729493c7ac5",
   "outputs": [],
   "execution_count": 13
  },
  {
   "metadata": {},
   "cell_type": "markdown",
   "source": "## X Tweets",
   "id": "121b9e41b854695b"
  },
  {
   "metadata": {
    "ExecuteTime": {
     "end_time": "2024-07-21T14:44:08.627753Z",
     "start_time": "2024-07-21T14:44:08.618869Z"
    }
   },
   "cell_type": "code",
   "source": "",
   "id": "f727fa61215c6ab",
   "outputs": [],
   "execution_count": 13
  },
  {
   "metadata": {},
   "cell_type": "markdown",
   "source": "## ChatGPT",
   "id": "614076dbc3b44fba"
  },
  {
   "metadata": {
    "ExecuteTime": {
     "end_time": "2024-07-21T14:44:09.721517Z",
     "start_time": "2024-07-21T14:44:09.699948Z"
    }
   },
   "cell_type": "code",
   "source": [
    "for biased_chatgpt_data in biased_chatgpt:\n",
    "    prompt, label = biased_chatgpt_data.split('\\n')\n",
    "    \n",
    "    prompt = prompt.split(': ')[1]\n",
    "    label = label.split(': ')[1]\n",
    "        \n",
    "    data.append({\n",
    "        \"id\": len(data),\n",
    "        \"dialogue\": prompt,\n",
    "        \"summary\": label,\n",
    "    })"
   ],
   "id": "2b602bd0736581a3",
   "outputs": [],
   "execution_count": 14
  },
  {
   "metadata": {
    "ExecuteTime": {
     "end_time": "2024-07-21T14:44:11.094710Z",
     "start_time": "2024-07-21T14:44:11.075653Z"
    }
   },
   "cell_type": "code",
   "source": [
    "for unbiased_chatgpt_data in unbiased_chatgpt:\n",
    "    prompt = unbiased_chatgpt_data\n",
    "    prompt = prompt.split('. ')[1]\n",
    "            \n",
    "    data.append({\n",
    "        \"id\": len(data),\n",
    "        \"dialogue\": prompt,\n",
    "        \"summary\": prompt,\n",
    "    })"
   ],
   "id": "938c8b636aaa9b6e",
   "outputs": [],
   "execution_count": 15
  },
  {
   "metadata": {
    "ExecuteTime": {
     "end_time": "2024-07-21T14:44:13.481097Z",
     "start_time": "2024-07-21T14:44:13.356204Z"
    }
   },
   "cell_type": "code",
   "source": "len(data), data",
   "id": "62e44b769ec659ea",
   "outputs": [
    {
     "data": {
      "text/plain": [
       "(169,\n",
       " [{'id': 0,\n",
       "   'dialogue': 'زن\\u200cها نمی\\u200cتوانند مدیران خوبی باشند.',\n",
       "   'summary': 'هرکسی می\\u200cتواند مدیر خوبی باشد.'},\n",
       "  {'id': 1,\n",
       "   'dialogue': 'مردها نمی\\u200cتوانند به خوبی زن\\u200cها مراقبت کنند.',\n",
       "   'summary': 'هرکسی می\\u200cتواند خوب مراقبت کند.'},\n",
       "  {'id': 2,\n",
       "   'dialogue': 'زن\\u200cها در ورزش\\u200cهای سنگین موفق نمی\\u200cشوند.',\n",
       "   'summary': 'هرکسی می\\u200cتواند در ورزش\\u200cهای سنگین موفق شود.'},\n",
       "  {'id': 3,\n",
       "   'dialogue': 'مردها نمی\\u200cتوانند به خوبی زن\\u200cها آشپزی کنند.',\n",
       "   'summary': 'هرکسی می\\u200cتواند خوب آشپزی کند.'},\n",
       "  {'id': 4,\n",
       "   'dialogue': 'زن\\u200cها نمی\\u200cتوانند در سیاست موفق باشند.',\n",
       "   'summary': 'هرکسی می\\u200cتواند در سیاست موفق باشد.'},\n",
       "  {'id': 5,\n",
       "   'dialogue': 'مردها احساساتی نمی\\u200cشوند.',\n",
       "   'summary': 'هرکسی ممکن است احساساتی شود.'},\n",
       "  {'id': 6,\n",
       "   'dialogue': 'زن\\u200cها نمی\\u200cتوانند به خوبی مردها برنامه\\u200cنویسی کنند.',\n",
       "   'summary': 'هرکسی می\\u200cتواند خوب برنامه\\u200cنویسی کند.'},\n",
       "  {'id': 7,\n",
       "   'dialogue': 'مردها باید نان\\u200cآور خانه باشند.',\n",
       "   'summary': 'هرکسی می\\u200cتواند نان\\u200cآور خانه باشد.'},\n",
       "  {'id': 8,\n",
       "   'dialogue': 'زن\\u200cها نمی\\u200cتوانند به خوبی مردها رانندگی کنند.',\n",
       "   'summary': 'هرکسی می\\u200cتواند خوب رانندگی کند.'},\n",
       "  {'id': 9,\n",
       "   'dialogue': 'مردها نمی\\u200cتوانند به خوبی زن\\u200cها خیاطی کنند.',\n",
       "   'summary': 'هرکسی می\\u200cتواند خوب خیاطی کند.'},\n",
       "  {'id': 10,\n",
       "   'dialogue': 'زن\\u200cها در ریاضیات خوب نیستند.',\n",
       "   'summary': 'هرکسی می\\u200cتواند در ریاضیات خوب باشد.'},\n",
       "  {'id': 11,\n",
       "   'dialogue': 'مردها نمی\\u200cتوانند به خوبی زن\\u200cها دلسوزی کنند.',\n",
       "   'summary': 'هرکسی می\\u200cتواند دلسوزی کند.'},\n",
       "  {'id': 12,\n",
       "   'dialogue': 'زن\\u200cها باید در خانه بمانند و از بچه\\u200cها مراقبت کنند.',\n",
       "   'summary': 'هرکسی می\\u200cتواند از بچه\\u200cها مراقبت کند.'},\n",
       "  {'id': 13,\n",
       "   'dialogue': 'مردها بهتر از زن\\u200cها رانندگی می\\u200cکنند.',\n",
       "   'summary': 'هرکسی می\\u200cتواند خوب رانندگی کند.'},\n",
       "  {'id': 14,\n",
       "   'dialogue': 'زن\\u200cها در علوم کامپیوتر مهارت ندارند.',\n",
       "   'summary': 'هرکسی می\\u200cتواند در علوم کامپیوتر مهارت داشته باشد.'},\n",
       "  {'id': 15,\n",
       "   'dialogue': 'مردها نمی\\u200cتوانند به خوبی زن\\u200cها طراحی کنند.',\n",
       "   'summary': 'هرکسی می\\u200cتواند خوب طراحی کند.'},\n",
       "  {'id': 16,\n",
       "   'dialogue': 'زن\\u200cها نمی\\u200cتوانند به خوبی مردها تصمیم بگیرند.',\n",
       "   'summary': 'هرکسی می\\u200cتواند خوب تصمیم بگیرد.'},\n",
       "  {'id': 17,\n",
       "   'dialogue': 'مردها نمی\\u200cتوانند به خوبی زن\\u200cها خانه\\u200cداری کنند.',\n",
       "   'summary': 'هرکسی می\\u200cتواند خوب خانه\\u200cداری کند.'},\n",
       "  {'id': 18,\n",
       "   'dialogue': 'زن\\u200cها در علوم پایه مهارت ندارند.',\n",
       "   'summary': 'هرکسی می\\u200cتواند در علوم پایه مهارت داشته باشد.'},\n",
       "  {'id': 19,\n",
       "   'dialogue': 'مردها نمی\\u200cتوانند به خوبی زن\\u200cها روابط اجتماعی را مدیریت کنند.',\n",
       "   'summary': 'هرکسی می\\u200cتواند روابط اجتماعی را خوب مدیریت کند.'},\n",
       "  {'id': 20,\n",
       "   'dialogue': 'زن\\u200cها نمی\\u200cتوانند به خوبی مردها پروژه\\u200cهای بزرگ را مدیریت کنند.',\n",
       "   'summary': 'هرکسی می\\u200cتواند پروژه\\u200cهای بزرگ را مدیریت کند.'},\n",
       "  {'id': 21,\n",
       "   'dialogue': 'مردها نمی\\u200cتوانند به خوبی زن\\u200cها هنرپیشه شوند.',\n",
       "   'summary': 'هرکسی می\\u200cتواند هنرپیشه شود.'},\n",
       "  {'id': 22,\n",
       "   'dialogue': 'زن\\u200cها نمی\\u200cتوانند به خوبی مردها تحلیل کنند.',\n",
       "   'summary': 'هرکسی می\\u200cتواند خوب تحلیل کند.'},\n",
       "  {'id': 23,\n",
       "   'dialogue': 'مردها نمی\\u200cتوانند به خوبی زن\\u200cها تدریس کنند.',\n",
       "   'summary': 'هرکسی می\\u200cتواند خوب تدریس کند.'},\n",
       "  {'id': 24,\n",
       "   'dialogue': 'زن\\u200cها نمی\\u200cتوانند به خوبی مردها سیاست\\u200cگذاری کنند.',\n",
       "   'summary': 'هرکسی می\\u200cتواند سیاست\\u200cگذاری کند.'},\n",
       "  {'id': 25,\n",
       "   'dialogue': 'مردها نمی\\u200cتوانند به خوبی زن\\u200cها موسیقی بنوازند.',\n",
       "   'summary': 'هرکسی می\\u200cتواند خوب موسیقی بنوازد.'},\n",
       "  {'id': 26,\n",
       "   'dialogue': 'زن\\u200cها نمی\\u200cتوانند به خوبی مردها مدیریت مالی کنند.',\n",
       "   'summary': 'هرکسی می\\u200cتواند مدیریت مالی کند.'},\n",
       "  {'id': 27,\n",
       "   'dialogue': 'مردها نمی\\u200cتوانند به خوبی زن\\u200cها داستان\\u200cنویسی کنند.',\n",
       "   'summary': 'هرکسی می\\u200cتواند خوب داستان\\u200cنویسی کند.'},\n",
       "  {'id': 28,\n",
       "   'dialogue': 'زن\\u200cها نمی\\u200cتوانند به خوبی مردها مدیریت بحران کنند.',\n",
       "   'summary': 'هرکسی می\\u200cتواند مدیریت بحران کند.'},\n",
       "  {'id': 29,\n",
       "   'dialogue': 'مردها نمی\\u200cتوانند به خوبی زن\\u200cها از حیوانات مراقبت کنند.',\n",
       "   'summary': 'هرکسی می\\u200cتواند از حیوانات مراقبت کند.'},\n",
       "  {'id': 30,\n",
       "   'dialogue': 'زن\\u200cها نمی\\u200cتوانند به خوبی مردها ورزش کنند.',\n",
       "   'summary': 'هرکسی می\\u200cتواند خوب ورزش کند.'},\n",
       "  {'id': 31,\n",
       "   'dialogue': 'مردها نمی\\u200cتوانند به خوبی زن\\u200cها داستان\\u200cنویسی کنند.',\n",
       "   'summary': 'هرکسی می\\u200cتواند خوب داستان\\u200cنویسی کند.'},\n",
       "  {'id': 32,\n",
       "   'dialogue': 'زن\\u200cها نمی\\u200cتوانند به خوبی مردها خلبانی کنند.',\n",
       "   'summary': 'هرکسی می\\u200cتواند خلبانی کند.'},\n",
       "  {'id': 33,\n",
       "   'dialogue': 'مردها نمی\\u200cتوانند به خوبی زن\\u200cها نقاشی کنند.',\n",
       "   'summary': 'هرکسی می\\u200cتواند خوب نقاشی کند.'},\n",
       "  {'id': 34,\n",
       "   'dialogue': 'زن\\u200cها نمی\\u200cتوانند به خوبی مردها سخنرانی کنند.',\n",
       "   'summary': 'هرکسی می\\u200cتواند خوب سخنرانی کند.'},\n",
       "  {'id': 35,\n",
       "   'dialogue': 'مردها نمی\\u200cتوانند به خوبی زن\\u200cها پرستاری کنند.',\n",
       "   'summary': 'هرکسی می\\u200cتواند پرستاری کند.'},\n",
       "  {'id': 36,\n",
       "   'dialogue': 'زن\\u200cها نمی\\u200cتوانند به خوبی مردها مدیریت کنند.',\n",
       "   'summary': 'هرکسی می\\u200cتواند مدیریت کند.'},\n",
       "  {'id': 37,\n",
       "   'dialogue': 'مردها نمی\\u200cتوانند به خوبی زن\\u200cها خیاطی کنند.',\n",
       "   'summary': 'هرکسی می\\u200cتواند خیاطی کند.'},\n",
       "  {'id': 38,\n",
       "   'dialogue': 'زن\\u200cها نمی\\u200cتوانند به خوبی مردها تدریس کنند.',\n",
       "   'summary': 'هرکسی می\\u200cتواند تدریس کند.'},\n",
       "  {'id': 39,\n",
       "   'dialogue': 'مردها نمی\\u200cتوانند به خوبی زن\\u200cها مدیریت پروژه کنند.',\n",
       "   'summary': 'هرکسی می\\u200cتواند مدیریت پروژه کند.'},\n",
       "  {'id': 40,\n",
       "   'dialogue': 'زن\\u200cها نمی\\u200cتوانند به خوبی مردها سیاست\\u200cگذاری کنند.',\n",
       "   'summary': 'هرکسی می\\u200cتواند سیاست\\u200cگذاری کند.'},\n",
       "  {'id': 41,\n",
       "   'dialogue': 'مردها نمی\\u200cتوانند به خوبی زن\\u200cها موسیقی بنوازند.',\n",
       "   'summary': 'هرکسی می\\u200cتواند موسیقی بنوازد.'},\n",
       "  {'id': 42,\n",
       "   'dialogue': 'زن\\u200cها نمی\\u200cتوانند به خوبی مردها مدیریت مالی کنند.',\n",
       "   'summary': 'هرکسی می\\u200cتواند مدیریت مالی کند.'},\n",
       "  {'id': 43,\n",
       "   'dialogue': 'مردها نمی\\u200cتوانند به خوبی زن\\u200cها تحلیل کنند.',\n",
       "   'summary': 'هرکسی می\\u200cتواند تحلیل کند.'},\n",
       "  {'id': 44,\n",
       "   'dialogue': 'زن\\u200cها نمی\\u200cتوانند به خوبی مردها در سیاست موفق شوند.',\n",
       "   'summary': 'هرکسی می\\u200cتواند در سیاست موفق شود.'},\n",
       "  {'id': 45,\n",
       "   'dialogue': 'مردها نمی\\u200cتوانند به خوبی زن\\u200cها آشپزی کنند.',\n",
       "   'summary': 'هرکسی می\\u200cتواند آشپزی کند.'},\n",
       "  {'id': 46,\n",
       "   'dialogue': 'زن\\u200cها نمی\\u200cتوانند به خوبی مردها مدیر شوند.',\n",
       "   'summary': 'هرکسی می\\u200cتواند مدیر شود.'},\n",
       "  {'id': 47,\n",
       "   'dialogue': 'مردها نمی\\u200cتوانند به خوبی زن\\u200cها طراحی کنند.',\n",
       "   'summary': 'هرکسی می\\u200cتواند طراحی کند.'},\n",
       "  {'id': 48,\n",
       "   'dialogue': 'زن\\u200cها نمی\\u200cتوانند به خوبی مردها رانندگی کنند.',\n",
       "   'summary': 'هرکسی می\\u200cتواند رانندگی کند.'},\n",
       "  {'id': 49,\n",
       "   'dialogue': 'مردها نمی\\u200cتوانند به خوبی زن\\u200cها دلسوزی کنند.',\n",
       "   'summary': 'هرکسی می\\u200cتواند دلسوزی کند.'},\n",
       "  {'id': 50,\n",
       "   'dialogue': 'زن\\u200cها نمی\\u200cتوانند به خوبی مردها مدیریت کنند.',\n",
       "   'summary': 'هرکسی می\\u200cتواند مدیریت کند.'},\n",
       "  {'id': 51,\n",
       "   'dialogue': 'مردها نمی\\u200cتوانند به خوبی زن\\u200cها خیاطی کنند.',\n",
       "   'summary': 'هرکسی می\\u200cتواند خیاطی کند.'},\n",
       "  {'id': 52,\n",
       "   'dialogue': 'زن\\u200cها نمی\\u200cتوانند به خوبی مردها تدریس کنند.',\n",
       "   'summary': 'هرکسی می\\u200cتواند تدریس کند.'},\n",
       "  {'id': 53,\n",
       "   'dialogue': 'مردها نمی\\u200cتوانند به خوبی زن\\u200cها مدیریت پروژه کنند.',\n",
       "   'summary': 'هرکسی می\\u200cتواند مدیریت پروژه کند.'},\n",
       "  {'id': 54,\n",
       "   'dialogue': 'زن\\u200cها نمی\\u200cتوانند به خوبی مردها در سیاست موفق شوند.',\n",
       "   'summary': 'هرکسی می\\u200cتواند در سیاست موفق شود.'},\n",
       "  {'id': 55,\n",
       "   'dialogue': 'مردها نمی\\u200cتوانند به خوبی زن\\u200cها آشپزی کنند.',\n",
       "   'summary': 'هرکسی می\\u200cتواند آشپزی کند.'},\n",
       "  {'id': 56,\n",
       "   'dialogue': 'زن\\u200cها نمی\\u200cتوانند به خوبی مردها مدیر شوند.',\n",
       "   'summary': 'هرکسی می\\u200cتواند مدیر شود.'},\n",
       "  {'id': 57,\n",
       "   'dialogue': 'مردها نمی\\u200cتوانند به خوبی زن\\u200cها طراحی کنند.',\n",
       "   'summary': 'هرکسی می\\u200cتواند طراحی کند.'},\n",
       "  {'id': 58,\n",
       "   'dialogue': 'زن\\u200cها نمی\\u200cتوانند به خوبی مردها رانندگی کنند.',\n",
       "   'summary': 'هرکسی می\\u200cتواند رانندگی کند.'},\n",
       "  {'id': 59,\n",
       "   'dialogue': 'مردها نمی\\u200cتوانند به خوبی زن\\u200cها دلسوزی کنند.',\n",
       "   'summary': 'هرکسی می\\u200cتواند دلسوزی کند.'},\n",
       "  {'id': 60,\n",
       "   'dialogue': 'زن\\u200cها نمی\\u200cتوانند به خوبی مردها مدیریت کنند.',\n",
       "   'summary': 'هرکسی می\\u200cتواند مدیریت کند.'},\n",
       "  {'id': 61,\n",
       "   'dialogue': 'مردها نمی\\u200cتوانند به خوبی زن\\u200cها خیاطی کنند.',\n",
       "   'summary': 'هرکسی می\\u200cتواند خیاطی کند.'},\n",
       "  {'id': 62,\n",
       "   'dialogue': 'زن\\u200cها نمی\\u200cتوانند به خوبی مردها تدریس کنند.',\n",
       "   'summary': 'هرکسی می\\u200cتواند تدریس کند.'},\n",
       "  {'id': 63,\n",
       "   'dialogue': 'مردها نمی\\u200cتوانند به خوبی زن\\u200cها مدیریت پروژه کنند.',\n",
       "   'summary': 'هرکسی می\\u200cتواند مدیریت پروژه کند.'},\n",
       "  {'id': 64,\n",
       "   'dialogue': 'زن\\u200cها نمی\\u200cتوانند به خوبی مردها در سیاست موفق شوند.',\n",
       "   'summary': 'هرکسی می\\u200cتواند در سیاست موفق شود.'},\n",
       "  {'id': 65,\n",
       "   'dialogue': 'مردها نمی\\u200cتوانند به خوبی زن\\u200cها آشپزی کنند.',\n",
       "   'summary': 'هرکسی می\\u200cتواند آشپزی کند.'},\n",
       "  {'id': 66,\n",
       "   'dialogue': 'زن\\u200cها نمی\\u200cتوانند به خوبی مردها مدیر شوند.',\n",
       "   'summary': 'هرکسی می\\u200cتواند مدیر شود.'},\n",
       "  {'id': 67,\n",
       "   'dialogue': 'مردها نمی\\u200cتوانند به خوبی زن\\u200cها طراحی کنند.',\n",
       "   'summary': 'هرکسی می\\u200cتواند طراحی کند.'},\n",
       "  {'id': 68,\n",
       "   'dialogue': 'زن\\u200cها نمی\\u200cتوانند به خوبی مردها رانندگی کنند.',\n",
       "   'summary': 'هرکسی می\\u200cتواند رانندگی کند.'},\n",
       "  {'id': 69,\n",
       "   'dialogue': 'زن\\u200cها در ریاضیات خوب نیستند.',\n",
       "   'summary': 'هرکسی می\\u200cتواند در ریاضیات خوب باشد.'},\n",
       "  {'id': 70,\n",
       "   'dialogue': 'مردها احساساتشان را نشان نمی\\u200cدهند.',\n",
       "   'summary': 'هرکسی می\\u200cتواند احساساتش را نشان دهد.'},\n",
       "  {'id': 71,\n",
       "   'dialogue': 'شغل مهندسی برای زنان مناسب نیست.',\n",
       "   'summary': 'شغل مهندسی برای هرکسی مناسب است.'},\n",
       "  {'id': 72,\n",
       "   'dialogue': 'فقط مردها می\\u200cتوانند رئیس خوبی باشند.',\n",
       "   'summary': 'هرکسی می\\u200cتواند رئیس خوبی باشد.'},\n",
       "  {'id': 73,\n",
       "   'dialogue': 'زن\\u200cها باید در خانه بمانند و از بچه\\u200cها مراقبت کنند.',\n",
       "   'summary': 'هرکسی می\\u200cتواند از بچه\\u200cها مراقبت کند.'},\n",
       "  {'id': 74,\n",
       "   'dialogue': 'مردها نمی\\u200cتوانند به خوبی زن\\u200cها آشپزی کنند.',\n",
       "   'summary': 'هرکسی می\\u200cتواند خوب آشپزی کند.'},\n",
       "  {'id': 75,\n",
       "   'dialogue': 'زن\\u200cها به تکنولوژی علاقه\\u200cای ندارند.',\n",
       "   'summary': 'هرکسی ممکن است به تکنولوژی علاقه داشته باشد.'},\n",
       "  {'id': 76,\n",
       "   'dialogue': 'مردها بهتر از زن\\u200cها رانندگی می\\u200cکنند.',\n",
       "   'summary': 'هرکسی می\\u200cتواند خوب رانندگی کند.'},\n",
       "  {'id': 77,\n",
       "   'dialogue': 'زن\\u200cها نمی\\u200cتوانند در ورزش\\u200cهای سنگین موفق باشند.',\n",
       "   'summary': 'هرکسی می\\u200cتواند در ورزش\\u200cهای سنگین موفق باشد.'},\n",
       "  {'id': 78,\n",
       "   'dialogue': 'مردها احساساتی نمی\\u200cشوند.',\n",
       "   'summary': 'هرکسی ممکن است احساساتی شود.'},\n",
       "  {'id': 79,\n",
       "   'dialogue': 'زن\\u200cها نمی\\u200cتوانند به خوبی مردها مدیریت کنند.',\n",
       "   'summary': 'هرکسی می\\u200cتواند خوب مدیریت کند.'},\n",
       "  {'id': 80,\n",
       "   'dialogue': 'مردها باید نان\\u200cآور خانه باشند.',\n",
       "   'summary': 'هرکسی می\\u200cتواند نان\\u200cآور خانه باشد.'},\n",
       "  {'id': 81,\n",
       "   'dialogue': 'زن\\u200cها نمی\\u200cتوانند در سیاست موفق باشند.',\n",
       "   'summary': 'هرکسی می\\u200cتواند در سیاست موفق باشد.'},\n",
       "  {'id': 82,\n",
       "   'dialogue': 'مردها در تربیت بچه\\u200cها نقش کمتری دارند.',\n",
       "   'summary': 'هرکسی می\\u200cتواند در تربیت بچه\\u200cها نقش داشته باشد.'},\n",
       "  {'id': 83,\n",
       "   'dialogue': 'زن\\u200cها در علوم کامپیوتر مهارت ندارند.',\n",
       "   'summary': 'هرکسی می\\u200cتواند در علوم کامپیوتر مهارت داشته باشد.'},\n",
       "  {'id': 84,\n",
       "   'dialogue': 'مردها نمی\\u200cتوانند به خوبی زن\\u200cها خیاطی کنند.',\n",
       "   'summary': 'هرکسی می\\u200cتواند خوب خیاطی کند.'},\n",
       "  {'id': 85,\n",
       "   'dialogue': 'زن\\u200cها نمی\\u200cتوانند به خوبی مردها تصمیم بگیرند.',\n",
       "   'summary': 'هرکسی می\\u200cتواند خوب تصمیم بگیرد.'},\n",
       "  {'id': 86,\n",
       "   'dialogue': 'مردها به خرید علاقه\\u200cای ندارند.',\n",
       "   'summary': 'هرکسی ممکن است به خرید علاقه داشته باشد.'},\n",
       "  {'id': 87,\n",
       "   'dialogue': 'زن\\u200cها نمی\\u200cتوانند به خوبی مردها برنامه\\u200cنویسی کنند.',\n",
       "   'summary': 'هرکسی می\\u200cتواند خوب برنامه\\u200cنویسی کند.'},\n",
       "  {'id': 88,\n",
       "   'dialogue': 'مردها نمی\\u200cتوانند به خوبی زن\\u200cها خانه\\u200cداری کنند.',\n",
       "   'summary': 'هرکسی می\\u200cتواند خوب خانه\\u200cداری کند.'},\n",
       "  {'id': 89,\n",
       "   'dialogue': 'زن\\u200cها نمی\\u200cتوانند به خوبی مردها رانندگی کنند.',\n",
       "   'summary': 'هرکسی می\\u200cتواند خوب رانندگی کند.'},\n",
       "  {'id': 90,\n",
       "   'dialogue': 'مردها نمی\\u200cتوانند به خوبی زن\\u200cها مراقبت کنند.',\n",
       "   'summary': 'هرکسی می\\u200cتواند خوب مراقبت کند.'},\n",
       "  {'id': 91,\n",
       "   'dialogue': 'زن\\u200cها در علوم پایه مهارت ندارند.',\n",
       "   'summary': 'هرکسی می\\u200cتواند در علوم پایه مهارت داشته باشد.'},\n",
       "  {'id': 92,\n",
       "   'dialogue': 'مردها در آشپزی مهارت ندارند.',\n",
       "   'summary': 'هرکسی می\\u200cتواند خوب آشپزی کند.'},\n",
       "  {'id': 93,\n",
       "   'dialogue': 'زن\\u200cها نمی\\u200cتوانند به خوبی مردها پروژه\\u200cهای بزرگ را مدیریت کنند.',\n",
       "   'summary': 'هرکسی می\\u200cتواند پروژه\\u200cهای بزرگ را مدیریت کند.'},\n",
       "  {'id': 94,\n",
       "   'dialogue': 'مردها نمی\\u200cتوانند به خوبی زن\\u200cها دلسوزی کنند.',\n",
       "   'summary': 'هرکسی می\\u200cتواند دلسوزی کند.'},\n",
       "  {'id': 95,\n",
       "   'dialogue': 'زن\\u200cها نمی\\u200cتوانند به خوبی مردها تحلیل کنند.',\n",
       "   'summary': 'هرکسی می\\u200cتواند خوب تحلیل کند.'},\n",
       "  {'id': 96,\n",
       "   'dialogue': 'مردها نمی\\u200cتوانند به خوبی زن\\u200cها تدریس کنند.',\n",
       "   'summary': 'هرکسی می\\u200cتواند خوب تدریس کند.'},\n",
       "  {'id': 97,\n",
       "   'dialogue': 'زن\\u200cها نمی\\u200cتوانند به خوبی مردها سیاست\\u200cگذاری کنند.',\n",
       "   'summary': 'هرکسی می\\u200cتواند سیاست\\u200cگذاری کند.'},\n",
       "  {'id': 98,\n",
       "   'dialogue': 'مردها نمی\\u200cتوانند به خوبی زن\\u200cها هنرپیشه شوند.',\n",
       "   'summary': 'هرکسی می\\u200cتواند هنرپیشه شود.'},\n",
       "  {'id': 99,\n",
       "   'dialogue': 'زن\\u200cها نمی\\u200cتوانند به خوبی مردها مدیریت مالی کنند.',\n",
       "   'summary': 'هرکسی می\\u200cتواند مدیریت مالی کند.'},\n",
       "  {'id': 100,\n",
       "   'dialogue': 'مردها نمی\\u200cتوانند به خوبی زن\\u200cها طراحی کنند.',\n",
       "   'summary': 'هرکسی می\\u200cتواند خوب طراحی کند.'},\n",
       "  {'id': 101,\n",
       "   'dialogue': 'زن\\u200cها نمی\\u200cتوانند به خوبی مردها ورزش کنند.',\n",
       "   'summary': 'هرکسی می\\u200cتواند خوب ورزش کند.'},\n",
       "  {'id': 102,\n",
       "   'dialogue': 'مردها نمی\\u200cتوانند به خوبی زن\\u200cها داستان\\u200cنویسی کنند.',\n",
       "   'summary': 'هرکسی می\\u200cتواند خوب داستان\\u200cنویسی کند.'},\n",
       "  {'id': 103,\n",
       "   'dialogue': 'زن\\u200cها نمی\\u200cتوانند به خوبی مردها مدیریت بحران کنند.',\n",
       "   'summary': 'هرکسی می\\u200cتواند مدیریت بحران کند.'},\n",
       "  {'id': 104,\n",
       "   'dialogue': 'مردها نمی\\u200cتوانند به خوبی زن\\u200cها از حیوانات مراقبت کنند.',\n",
       "   'summary': 'هرکسی می\\u200cتواند از حیوانات مراقبت کند.'},\n",
       "  {'id': 105,\n",
       "   'dialogue': 'زن\\u200cها نمی\\u200cتوانند به خوبی مردها موسیقی بنوازند.',\n",
       "   'summary': 'هرکسی می\\u200cتواند خوب موسیقی بنوازد.'},\n",
       "  {'id': 106,\n",
       "   'dialogue': 'مردها نمی\\u200cتوانند به خوبی زن\\u200cها تدریس کنند.',\n",
       "   'summary': 'هرکسی می\\u200cتواند خوب تدریس کند.'},\n",
       "  {'id': 107,\n",
       "   'dialogue': 'زن\\u200cها نمی\\u200cتوانند به خوبی مردها پروژه\\u200cهای بزرگ را مدیریت کنند.',\n",
       "   'summary': 'هرکسی می\\u200cتواند پروژه\\u200cهای بزرگ را مدیریت کند.'},\n",
       "  {'id': 108,\n",
       "   'dialogue': 'مردها نمی\\u200cتوانند به خوبی زن\\u200cها مراقبت کنند.',\n",
       "   'summary': 'هرکسی می\\u200cتواند خوب مراقبت کند.'},\n",
       "  {'id': 109,\n",
       "   'dialogue': 'زن\\u200cها نمی\\u200cتوانند به خوبی مردها تحلیل کنند.',\n",
       "   'summary': 'هرکسی می\\u200cتواند خوب تحلیل کند.'},\n",
       "  {'id': 110,\n",
       "   'dialogue': 'مردها نمی\\u200cتوانند به خوبی زن\\u200cها تدریس کنند.',\n",
       "   'summary': 'هرکسی می\\u200cتواند خوب تدریس کند.'},\n",
       "  {'id': 111,\n",
       "   'dialogue': 'زن\\u200cها نمی\\u200cتوانند به خوبی مردها سیاست\\u200cگذاری کنند.',\n",
       "   'summary': 'هرکسی می\\u200cتواند سیاست\\u200cگذاری کند.'},\n",
       "  {'id': 112,\n",
       "   'dialogue': 'مردها نمی\\u200cتوانند به خوبی زن\\u200cها هنرپیشه شوند.',\n",
       "   'summary': 'هرکسی می\\u200cتواند هنرپیشه شود.'},\n",
       "  {'id': 113,\n",
       "   'dialogue': 'زن\\u200cها نمی\\u200cتوانند به خوبی مردها طراحی کنند.',\n",
       "   'summary': 'هرکسی می\\u200cتواند خوب طراحی کند.'},\n",
       "  {'id': 114,\n",
       "   'dialogue': 'مردها نمی\\u200cتوانند به خوبی زن\\u200cها داستان\\u200cنویسی کنند.',\n",
       "   'summary': 'هرکسی می\\u200cتواند خوب داستان\\u200cنویسی کند.'},\n",
       "  {'id': 115,\n",
       "   'dialogue': 'زن\\u200cها نمی\\u200cتوانند به خوبی مردها مدیریت بحران کنند.',\n",
       "   'summary': 'هرکسی می\\u200cتواند مدیریت بحران کند.'},\n",
       "  {'id': 116,\n",
       "   'dialogue': 'مردها نمی\\u200cتوانند به خوبی زن\\u200cها از حیوانات مراقبت کنند.',\n",
       "   'summary': 'هرکسی می\\u200cتواند از حیوانات مراقبت کند.'},\n",
       "  {'id': 117,\n",
       "   'dialogue': 'زن\\u200cها نمی\\u200cتوانند به خوبی مردها موسیقی بنوازند.',\n",
       "   'summary': 'هرکسی می\\u200cتواند خوب موسیقی بنوازد.'},\n",
       "  {'id': 118,\n",
       "   'dialogue': 'مردها نمی\\u200cتوانند به خوبی زن\\u200cها تدریس کنند.',\n",
       "   'summary': 'هرکسی می\\u200cتواند خوب تدریس کند.'},\n",
       "  {'id': 119,\n",
       "   'dialogue': 'امروز با دوستان به سینما رفتم.',\n",
       "   'summary': 'امروز با دوستان به سینما رفتم.'},\n",
       "  {'id': 120,\n",
       "   'dialogue': 'برای تعطیلات به سفر می\\u200cروم.',\n",
       "   'summary': 'برای تعطیلات به سفر می\\u200cروم.'},\n",
       "  {'id': 121,\n",
       "   'dialogue': 'کلاس هنر بسیار جالب است.',\n",
       "   'summary': 'کلاس هنر بسیار جالب است.'},\n",
       "  {'id': 122,\n",
       "   'dialogue': 'در کتابخانه مطالعه کردم.',\n",
       "   'summary': 'در کتابخانه مطالعه کردم.'},\n",
       "  {'id': 123,\n",
       "   'dialogue': 'مسابقه فوتبال هیجان\\u200cانگیز بود.',\n",
       "   'summary': 'مسابقه فوتبال هیجان\\u200cانگیز بود.'},\n",
       "  {'id': 124,\n",
       "   'dialogue': 'برای خرید به بازار رفتم.',\n",
       "   'summary': 'برای خرید به بازار رفتم.'},\n",
       "  {'id': 125,\n",
       "   'dialogue': 'با دوستانم در کافه ملاقات کردم.',\n",
       "   'summary': 'با دوستانم در کافه ملاقات کردم.'},\n",
       "  {'id': 126,\n",
       "   'dialogue': 'از طبیعت\\u200cگردی لذت می\\u200cبرم.',\n",
       "   'summary': 'از طبیعت\\u200cگردی لذت می\\u200cبرم.'},\n",
       "  {'id': 127,\n",
       "   'dialogue': 'در کنسرت موسیقی شرکت کردم.',\n",
       "   'summary': 'در کنسرت موسیقی شرکت کردم.'},\n",
       "  {'id': 128,\n",
       "   'dialogue': 'از کتاب جدیدم خیلی خوشم آمد.',\n",
       "   'summary': 'از کتاب جدیدم خیلی خوشم آمد.'},\n",
       "  {'id': 129,\n",
       "   'dialogue': 'برای شام به رستوران رفتیم.',\n",
       "   'summary': 'برای شام به رستوران رفتیم.'},\n",
       "  {'id': 130,\n",
       "   'dialogue': 'برنامه\\u200cریزی برای آینده خیلی مهم است.',\n",
       "   'summary': 'برنامه\\u200cریزی برای آینده خیلی مهم است.'},\n",
       "  {'id': 131,\n",
       "   'dialogue': 'درس\\u200cهای دانشگاه بسیار چالش\\u200cبرانگیز هستند.',\n",
       "   'summary': 'درس\\u200cهای دانشگاه بسیار چالش\\u200cبرانگیز هستند.'},\n",
       "  {'id': 132,\n",
       "   'dialogue': 'دویدن صبحگاهی احساس خوبی می\\u200cدهد.',\n",
       "   'summary': 'دویدن صبحگاهی احساس خوبی می\\u200cدهد.'},\n",
       "  {'id': 133,\n",
       "   'dialogue': 'برای کارهای داوطلبانه ثبت\\u200cنام کردم.',\n",
       "   'summary': 'برای کارهای داوطلبانه ثبت\\u200cنام کردم.'},\n",
       "  {'id': 134,\n",
       "   'dialogue': 'در کلاس یوگا شرکت کردم.',\n",
       "   'summary': 'در کلاس یوگا شرکت کردم.'},\n",
       "  {'id': 135,\n",
       "   'dialogue': 'از یادگیری زبان جدید لذت می\\u200cبرم.',\n",
       "   'summary': 'از یادگیری زبان جدید لذت می\\u200cبرم.'},\n",
       "  {'id': 136,\n",
       "   'dialogue': 'با دوستانم به کوهنوردی رفتم.',\n",
       "   'summary': 'با دوستانم به کوهنوردی رفتم.'},\n",
       "  {'id': 137,\n",
       "   'dialogue': 'در پارک دوچرخه\\u200cسواری کردم.',\n",
       "   'summary': 'در پارک دوچرخه\\u200cسواری کردم.'},\n",
       "  {'id': 138,\n",
       "   'dialogue': 'از تماشای فیلم\\u200cهای مستند لذت می\\u200cبرم.',\n",
       "   'summary': 'از تماشای فیلم\\u200cهای مستند لذت می\\u200cبرم.'},\n",
       "  {'id': 139,\n",
       "   'dialogue': 'در مسابقه نقاشی شرکت کردم.',\n",
       "   'summary': 'در مسابقه نقاشی شرکت کردم.'},\n",
       "  {'id': 140,\n",
       "   'dialogue': 'برای ناهار سالاد درست کردم.',\n",
       "   'summary': 'برای ناهار سالاد درست کردم.'},\n",
       "  {'id': 141,\n",
       "   'dialogue': 'از برنامه\\u200cهای تلویزیونی علمی لذت می\\u200cبرم.',\n",
       "   'summary': 'از برنامه\\u200cهای تلویزیونی علمی لذت می\\u200cبرم.'},\n",
       "  {'id': 142,\n",
       "   'dialogue': 'برای کنکور آماده می\\u200cشوم.',\n",
       "   'summary': 'برای کنکور آماده می\\u200cشوم.'},\n",
       "  {'id': 143,\n",
       "   'dialogue': 'در کلاس موسیقی ثبت\\u200cنام کردم.',\n",
       "   'summary': 'در کلاس موسیقی ثبت\\u200cنام کردم.'},\n",
       "  {'id': 144,\n",
       "   'dialogue': 'برای تعطیلات به خانه پدری رفتم.',\n",
       "   'summary': 'برای تعطیلات به خانه پدری رفتم.'},\n",
       "  {'id': 145,\n",
       "   'dialogue': 'از دیدن سریال\\u200cهای تاریخی لذت می\\u200cبرم.',\n",
       "   'summary': 'از دیدن سریال\\u200cهای تاریخی لذت می\\u200cبرم.'},\n",
       "  {'id': 146,\n",
       "   'dialogue': 'با دوستانم به تئاتر رفتم.',\n",
       "   'summary': 'با دوستانم به تئاتر رفتم.'},\n",
       "  {'id': 147,\n",
       "   'dialogue': 'در کارگاه نویسندگی شرکت کردم.',\n",
       "   'summary': 'در کارگاه نویسندگی شرکت کردم.'},\n",
       "  {'id': 148,\n",
       "   'dialogue': 'از دوچرخه\\u200cسواری در طبیعت لذت می\\u200cبرم.',\n",
       "   'summary': 'از دوچرخه\\u200cسواری در طبیعت لذت می\\u200cبرم.'},\n",
       "  {'id': 149,\n",
       "   'dialogue': 'برای مهمانی آماده شدم.',\n",
       "   'summary': 'برای مهمانی آماده شدم.'},\n",
       "  {'id': 150,\n",
       "   'dialogue': 'از پیاده\\u200cروی در ساحل لذت می\\u200cبرم.',\n",
       "   'summary': 'از پیاده\\u200cروی در ساحل لذت می\\u200cبرم.'},\n",
       "  {'id': 151,\n",
       "   'dialogue': 'برای امتحان نهایی آماده می\\u200cشوم.',\n",
       "   'summary': 'برای امتحان نهایی آماده می\\u200cشوم.'},\n",
       "  {'id': 152,\n",
       "   'dialogue': 'از دیدن نمایشگاه هنری لذت می\\u200cبرم.',\n",
       "   'summary': 'از دیدن نمایشگاه هنری لذت می\\u200cبرم.'},\n",
       "  {'id': 153,\n",
       "   'dialogue': 'در کلاس آشپزی شرکت کردم.',\n",
       "   'summary': 'در کلاس آشپزی شرکت کردم.'},\n",
       "  {'id': 154,\n",
       "   'dialogue': 'برای خرید کتاب\\u200cهای جدید به کتابفروشی رفتم.',\n",
       "   'summary': 'برای خرید کتاب\\u200cهای جدید به کتابفروشی رفتم.'},\n",
       "  {'id': 155,\n",
       "   'dialogue': 'از تمرینات ورزشی لذت می\\u200cبرم.',\n",
       "   'summary': 'از تمرینات ورزشی لذت می\\u200cبرم.'},\n",
       "  {'id': 156,\n",
       "   'dialogue': 'برای سفر به کویر برنامه\\u200cریزی می\\u200cکنم.',\n",
       "   'summary': 'برای سفر به کویر برنامه\\u200cریزی می\\u200cکنم.'},\n",
       "  {'id': 157,\n",
       "   'dialogue': 'از مطالعه در پارک لذت می\\u200cبرم.',\n",
       "   'summary': 'از مطالعه در پارک لذت می\\u200cبرم.'},\n",
       "  {'id': 158,\n",
       "   'dialogue': 'در کلاس رقص ثبت\\u200cنام کردم.',\n",
       "   'summary': 'در کلاس رقص ثبت\\u200cنام کردم.'},\n",
       "  {'id': 159,\n",
       "   'dialogue': 'برای یادگیری برنامه\\u200cنویسی ثبت\\u200cنام کردم.',\n",
       "   'summary': 'برای یادگیری برنامه\\u200cنویسی ثبت\\u200cنام کردم.'},\n",
       "  {'id': 160,\n",
       "   'dialogue': 'از گوش دادن به موسیقی کلاسیک لذت می\\u200cبرم.',\n",
       "   'summary': 'از گوش دادن به موسیقی کلاسیک لذت می\\u200cبرم.'},\n",
       "  {'id': 161,\n",
       "   'dialogue': 'برای صبحانه پنکیک درست کردم.',\n",
       "   'summary': 'برای صبحانه پنکیک درست کردم.'},\n",
       "  {'id': 162,\n",
       "   'dialogue': 'در کلاس بازیگری شرکت کردم.',\n",
       "   'summary': 'در کلاس بازیگری شرکت کردم.'},\n",
       "  {'id': 163,\n",
       "   'dialogue': 'برای ناهار به دوستانم ملحق شدم.',\n",
       "   'summary': 'برای ناهار به دوستانم ملحق شدم.'},\n",
       "  {'id': 164,\n",
       "   'dialogue': 'از دیدن آثار هنری در موزه لذت می\\u200cبرم.',\n",
       "   'summary': 'از دیدن آثار هنری در موزه لذت می\\u200cبرم.'},\n",
       "  {'id': 165,\n",
       "   'dialogue': 'برای ورزش به باشگاه رفتم.',\n",
       "   'summary': 'برای ورزش به باشگاه رفتم.'},\n",
       "  {'id': 166,\n",
       "   'dialogue': 'در جلسه کتابخوانی شرکت کردم.',\n",
       "   'summary': 'در جلسه کتابخوانی شرکت کردم.'},\n",
       "  {'id': 167,\n",
       "   'dialogue': 'از دویدن در پارک لذت می\\u200cبرم.',\n",
       "   'summary': 'از دویدن در پارک لذت می\\u200cبرم.'},\n",
       "  {'id': 168,\n",
       "   'dialogue': 'برای تمرین\\u200cهای یوگا به کلاس رفتم.',\n",
       "   'summary': 'برای تمرین\\u200cهای یوگا به کلاس رفتم.'}])"
      ]
     },
     "execution_count": 16,
     "metadata": {},
     "output_type": "execute_result"
    }
   ],
   "execution_count": 16
  },
  {
   "metadata": {},
   "cell_type": "markdown",
   "source": "## Internet",
   "id": "e538dc2e9fe6420a"
  },
  {
   "metadata": {},
   "cell_type": "code",
   "outputs": [],
   "execution_count": null,
   "source": "",
   "id": "23a278c685d0c8da"
  },
  {
   "metadata": {},
   "cell_type": "markdown",
   "source": "# Preprocessing",
   "id": "e90dcbc892c48568"
  },
  {
   "metadata": {
    "ExecuteTime": {
     "end_time": "2024-07-21T14:44:36.748828Z",
     "start_time": "2024-07-21T14:44:36.733647Z"
    }
   },
   "cell_type": "code",
   "source": [
    "with open('stopwords/chars.txt', 'r', encoding='utf-8') as file:\n",
    "    chars_stop_words = ''.join(file.read().splitlines())\n",
    "\n",
    "chars_stop_words = chars_stop_words.replace('[', '\\[')\n",
    "chars_stop_words = chars_stop_words.replace(']', '\\]')\n",
    "chars_stop_words += '\\n\\t\\r'\n",
    "chars_pattern = re.compile(f'[{chars_stop_words}]')\n",
    "chars_pattern"
   ],
   "id": "afcaf2c066340fb2",
   "outputs": [
    {
     "data": {
      "text/plain": [
       "re.compile(r'[\\ufeff!\"#()*,-./:\\[\\]«»،؛؟۰۱۲۳۴۵۶۷۸۹…$ًٌٍَُِّْءٰٔ﷼\\n\\t\\r]',\n",
       "           re.UNICODE)"
      ]
     },
     "execution_count": 24,
     "metadata": {},
     "output_type": "execute_result"
    }
   ],
   "execution_count": 24
  },
  {
   "metadata": {
    "ExecuteTime": {
     "end_time": "2024-07-21T14:44:37.849781Z",
     "start_time": "2024-07-21T14:44:37.838698Z"
    }
   },
   "cell_type": "code",
   "source": [
    "# https://stackoverflow.com/questions/33404752/removing-emojis-from-a-string-in-python\n",
    "emojis_pattern = re.compile(\"[\"\n",
    "                            u\"\\U0001F600-\\U0001F64F\"  # emoticons\n",
    "                            u\"\\U0001F300-\\U0001F5FF\"  # symbols & pictographs\n",
    "                            u\"\\U0001F680-\\U0001F6FF\"  # transport & map symbols\n",
    "                            u\"\\U0001F1E0-\\U0001F1FF\"  # flags (iOS)\n",
    "                            \"]+\")\n",
    "emojis_pattern"
   ],
   "id": "295e94d9c1eadb57",
   "outputs": [
    {
     "data": {
      "text/plain": [
       "re.compile(r'[😀-🙏🌀-🗿🚀-\\U0001f6ff\\U0001f1e0-🇿]+', re.UNICODE)"
      ]
     },
     "execution_count": 25,
     "metadata": {},
     "output_type": "execute_result"
    }
   ],
   "execution_count": 25
  },
  {
   "metadata": {
    "ExecuteTime": {
     "end_time": "2024-07-21T14:44:44.009668Z",
     "start_time": "2024-07-21T14:44:38.891433Z"
    }
   },
   "cell_type": "code",
   "source": "normalizer = Normalizer()",
   "id": "8e780b46011ae9db",
   "outputs": [],
   "execution_count": 26
  },
  {
   "metadata": {
    "ExecuteTime": {
     "end_time": "2024-07-21T14:44:44.023037Z",
     "start_time": "2024-07-21T14:44:44.017182Z"
    }
   },
   "cell_type": "code",
   "source": [
    "def preprocess_text(text):\n",
    "    global chars_pattern, emojis_pattern, normalizer\n",
    "    \n",
    "    text = emojis_pattern.sub(r' ', text)\n",
    "    text = chars_pattern.sub(r' ', text)\n",
    "    text = normalizer.normalize(text)\n",
    "    \n",
    "    return text"
   ],
   "id": "a3bc504ef7737178",
   "outputs": [],
   "execution_count": 27
  },
  {
   "metadata": {
    "ExecuteTime": {
     "end_time": "2024-07-21T14:44:44.080412Z",
     "start_time": "2024-07-21T14:44:44.027022Z"
    }
   },
   "cell_type": "code",
   "source": [
    "data_df: pd.DataFrame = pd.DataFrame(data)\n",
    "print(len(data_df))\n",
    "\n",
    "data_df.head()"
   ],
   "id": "df29b30732ece047",
   "outputs": [
    {
     "name": "stdout",
     "output_type": "stream",
     "text": [
      "169\n"
     ]
    },
    {
     "data": {
      "text/plain": [
       "   id                                     dialogue  \\\n",
       "0   0          زن‌ها نمی‌توانند مدیران خوبی باشند.   \n",
       "1   1  مردها نمی‌توانند به خوبی زن‌ها مراقبت کنند.   \n",
       "2   2       زن‌ها در ورزش‌های سنگین موفق نمی‌شوند.   \n",
       "3   3   مردها نمی‌توانند به خوبی زن‌ها آشپزی کنند.   \n",
       "4   4        زن‌ها نمی‌توانند در سیاست موفق باشند.   \n",
       "\n",
       "                                      summary  \n",
       "0              هرکسی می‌تواند مدیر خوبی باشد.  \n",
       "1              هرکسی می‌تواند خوب مراقبت کند.  \n",
       "2  هرکسی می‌تواند در ورزش‌های سنگین موفق شود.  \n",
       "3               هرکسی می‌تواند خوب آشپزی کند.  \n",
       "4          هرکسی می‌تواند در سیاست موفق باشد.  "
      ],
      "text/html": [
       "<div>\n",
       "<style scoped>\n",
       "    .dataframe tbody tr th:only-of-type {\n",
       "        vertical-align: middle;\n",
       "    }\n",
       "\n",
       "    .dataframe tbody tr th {\n",
       "        vertical-align: top;\n",
       "    }\n",
       "\n",
       "    .dataframe thead th {\n",
       "        text-align: right;\n",
       "    }\n",
       "</style>\n",
       "<table border=\"1\" class=\"dataframe\">\n",
       "  <thead>\n",
       "    <tr style=\"text-align: right;\">\n",
       "      <th></th>\n",
       "      <th>id</th>\n",
       "      <th>dialogue</th>\n",
       "      <th>summary</th>\n",
       "    </tr>\n",
       "  </thead>\n",
       "  <tbody>\n",
       "    <tr>\n",
       "      <th>0</th>\n",
       "      <td>0</td>\n",
       "      <td>زن‌ها نمی‌توانند مدیران خوبی باشند.</td>\n",
       "      <td>هرکسی می‌تواند مدیر خوبی باشد.</td>\n",
       "    </tr>\n",
       "    <tr>\n",
       "      <th>1</th>\n",
       "      <td>1</td>\n",
       "      <td>مردها نمی‌توانند به خوبی زن‌ها مراقبت کنند.</td>\n",
       "      <td>هرکسی می‌تواند خوب مراقبت کند.</td>\n",
       "    </tr>\n",
       "    <tr>\n",
       "      <th>2</th>\n",
       "      <td>2</td>\n",
       "      <td>زن‌ها در ورزش‌های سنگین موفق نمی‌شوند.</td>\n",
       "      <td>هرکسی می‌تواند در ورزش‌های سنگین موفق شود.</td>\n",
       "    </tr>\n",
       "    <tr>\n",
       "      <th>3</th>\n",
       "      <td>3</td>\n",
       "      <td>مردها نمی‌توانند به خوبی زن‌ها آشپزی کنند.</td>\n",
       "      <td>هرکسی می‌تواند خوب آشپزی کند.</td>\n",
       "    </tr>\n",
       "    <tr>\n",
       "      <th>4</th>\n",
       "      <td>4</td>\n",
       "      <td>زن‌ها نمی‌توانند در سیاست موفق باشند.</td>\n",
       "      <td>هرکسی می‌تواند در سیاست موفق باشد.</td>\n",
       "    </tr>\n",
       "  </tbody>\n",
       "</table>\n",
       "</div>"
      ]
     },
     "execution_count": 28,
     "metadata": {},
     "output_type": "execute_result"
    }
   ],
   "execution_count": 28
  },
  {
   "metadata": {
    "ExecuteTime": {
     "end_time": "2024-07-21T14:44:44.099197Z",
     "start_time": "2024-07-21T14:44:44.085435Z"
    }
   },
   "cell_type": "code",
   "source": [
    "data_df = data_df.drop_duplicates(subset=['dialogue'])\n",
    "print(len(data_df))"
   ],
   "id": "adf0d324a5aeadb9",
   "outputs": [
    {
     "name": "stdout",
     "output_type": "stream",
     "text": [
      "101\n"
     ]
    }
   ],
   "execution_count": 29
  },
  {
   "metadata": {
    "ExecuteTime": {
     "end_time": "2024-07-21T14:44:46.049129Z",
     "start_time": "2024-07-21T14:44:46.008028Z"
    }
   },
   "cell_type": "code",
   "source": [
    "data = []\n",
    "\n",
    "for index, row in data_df.iterrows():\n",
    "    data.append({\n",
    "        \"id\": row['id'],\n",
    "        \"dialogue\": row['dialogue'],\n",
    "        \"summary\": row['summary'],\n",
    "    })\n",
    "    \n",
    "\n",
    "len(data), data"
   ],
   "id": "51644a2d8afdaf",
   "outputs": [
    {
     "data": {
      "text/plain": [
       "(101,\n",
       " [{'id': 0,\n",
       "   'dialogue': 'زن\\u200cها نمی\\u200cتوانند مدیران خوبی باشند.',\n",
       "   'summary': 'هرکسی می\\u200cتواند مدیر خوبی باشد.'},\n",
       "  {'id': 1,\n",
       "   'dialogue': 'مردها نمی\\u200cتوانند به خوبی زن\\u200cها مراقبت کنند.',\n",
       "   'summary': 'هرکسی می\\u200cتواند خوب مراقبت کند.'},\n",
       "  {'id': 2,\n",
       "   'dialogue': 'زن\\u200cها در ورزش\\u200cهای سنگین موفق نمی\\u200cشوند.',\n",
       "   'summary': 'هرکسی می\\u200cتواند در ورزش\\u200cهای سنگین موفق شود.'},\n",
       "  {'id': 3,\n",
       "   'dialogue': 'مردها نمی\\u200cتوانند به خوبی زن\\u200cها آشپزی کنند.',\n",
       "   'summary': 'هرکسی می\\u200cتواند خوب آشپزی کند.'},\n",
       "  {'id': 4,\n",
       "   'dialogue': 'زن\\u200cها نمی\\u200cتوانند در سیاست موفق باشند.',\n",
       "   'summary': 'هرکسی می\\u200cتواند در سیاست موفق باشد.'},\n",
       "  {'id': 5,\n",
       "   'dialogue': 'مردها احساساتی نمی\\u200cشوند.',\n",
       "   'summary': 'هرکسی ممکن است احساساتی شود.'},\n",
       "  {'id': 6,\n",
       "   'dialogue': 'زن\\u200cها نمی\\u200cتوانند به خوبی مردها برنامه\\u200cنویسی کنند.',\n",
       "   'summary': 'هرکسی می\\u200cتواند خوب برنامه\\u200cنویسی کند.'},\n",
       "  {'id': 7,\n",
       "   'dialogue': 'مردها باید نان\\u200cآور خانه باشند.',\n",
       "   'summary': 'هرکسی می\\u200cتواند نان\\u200cآور خانه باشد.'},\n",
       "  {'id': 8,\n",
       "   'dialogue': 'زن\\u200cها نمی\\u200cتوانند به خوبی مردها رانندگی کنند.',\n",
       "   'summary': 'هرکسی می\\u200cتواند خوب رانندگی کند.'},\n",
       "  {'id': 9,\n",
       "   'dialogue': 'مردها نمی\\u200cتوانند به خوبی زن\\u200cها خیاطی کنند.',\n",
       "   'summary': 'هرکسی می\\u200cتواند خوب خیاطی کند.'},\n",
       "  {'id': 10,\n",
       "   'dialogue': 'زن\\u200cها در ریاضیات خوب نیستند.',\n",
       "   'summary': 'هرکسی می\\u200cتواند در ریاضیات خوب باشد.'},\n",
       "  {'id': 11,\n",
       "   'dialogue': 'مردها نمی\\u200cتوانند به خوبی زن\\u200cها دلسوزی کنند.',\n",
       "   'summary': 'هرکسی می\\u200cتواند دلسوزی کند.'},\n",
       "  {'id': 12,\n",
       "   'dialogue': 'زن\\u200cها باید در خانه بمانند و از بچه\\u200cها مراقبت کنند.',\n",
       "   'summary': 'هرکسی می\\u200cتواند از بچه\\u200cها مراقبت کند.'},\n",
       "  {'id': 13,\n",
       "   'dialogue': 'مردها بهتر از زن\\u200cها رانندگی می\\u200cکنند.',\n",
       "   'summary': 'هرکسی می\\u200cتواند خوب رانندگی کند.'},\n",
       "  {'id': 14,\n",
       "   'dialogue': 'زن\\u200cها در علوم کامپیوتر مهارت ندارند.',\n",
       "   'summary': 'هرکسی می\\u200cتواند در علوم کامپیوتر مهارت داشته باشد.'},\n",
       "  {'id': 15,\n",
       "   'dialogue': 'مردها نمی\\u200cتوانند به خوبی زن\\u200cها طراحی کنند.',\n",
       "   'summary': 'هرکسی می\\u200cتواند خوب طراحی کند.'},\n",
       "  {'id': 16,\n",
       "   'dialogue': 'زن\\u200cها نمی\\u200cتوانند به خوبی مردها تصمیم بگیرند.',\n",
       "   'summary': 'هرکسی می\\u200cتواند خوب تصمیم بگیرد.'},\n",
       "  {'id': 17,\n",
       "   'dialogue': 'مردها نمی\\u200cتوانند به خوبی زن\\u200cها خانه\\u200cداری کنند.',\n",
       "   'summary': 'هرکسی می\\u200cتواند خوب خانه\\u200cداری کند.'},\n",
       "  {'id': 18,\n",
       "   'dialogue': 'زن\\u200cها در علوم پایه مهارت ندارند.',\n",
       "   'summary': 'هرکسی می\\u200cتواند در علوم پایه مهارت داشته باشد.'},\n",
       "  {'id': 19,\n",
       "   'dialogue': 'مردها نمی\\u200cتوانند به خوبی زن\\u200cها روابط اجتماعی را مدیریت کنند.',\n",
       "   'summary': 'هرکسی می\\u200cتواند روابط اجتماعی را خوب مدیریت کند.'},\n",
       "  {'id': 20,\n",
       "   'dialogue': 'زن\\u200cها نمی\\u200cتوانند به خوبی مردها پروژه\\u200cهای بزرگ را مدیریت کنند.',\n",
       "   'summary': 'هرکسی می\\u200cتواند پروژه\\u200cهای بزرگ را مدیریت کند.'},\n",
       "  {'id': 21,\n",
       "   'dialogue': 'مردها نمی\\u200cتوانند به خوبی زن\\u200cها هنرپیشه شوند.',\n",
       "   'summary': 'هرکسی می\\u200cتواند هنرپیشه شود.'},\n",
       "  {'id': 22,\n",
       "   'dialogue': 'زن\\u200cها نمی\\u200cتوانند به خوبی مردها تحلیل کنند.',\n",
       "   'summary': 'هرکسی می\\u200cتواند خوب تحلیل کند.'},\n",
       "  {'id': 23,\n",
       "   'dialogue': 'مردها نمی\\u200cتوانند به خوبی زن\\u200cها تدریس کنند.',\n",
       "   'summary': 'هرکسی می\\u200cتواند خوب تدریس کند.'},\n",
       "  {'id': 24,\n",
       "   'dialogue': 'زن\\u200cها نمی\\u200cتوانند به خوبی مردها سیاست\\u200cگذاری کنند.',\n",
       "   'summary': 'هرکسی می\\u200cتواند سیاست\\u200cگذاری کند.'},\n",
       "  {'id': 25,\n",
       "   'dialogue': 'مردها نمی\\u200cتوانند به خوبی زن\\u200cها موسیقی بنوازند.',\n",
       "   'summary': 'هرکسی می\\u200cتواند خوب موسیقی بنوازد.'},\n",
       "  {'id': 26,\n",
       "   'dialogue': 'زن\\u200cها نمی\\u200cتوانند به خوبی مردها مدیریت مالی کنند.',\n",
       "   'summary': 'هرکسی می\\u200cتواند مدیریت مالی کند.'},\n",
       "  {'id': 27,\n",
       "   'dialogue': 'مردها نمی\\u200cتوانند به خوبی زن\\u200cها داستان\\u200cنویسی کنند.',\n",
       "   'summary': 'هرکسی می\\u200cتواند خوب داستان\\u200cنویسی کند.'},\n",
       "  {'id': 28,\n",
       "   'dialogue': 'زن\\u200cها نمی\\u200cتوانند به خوبی مردها مدیریت بحران کنند.',\n",
       "   'summary': 'هرکسی می\\u200cتواند مدیریت بحران کند.'},\n",
       "  {'id': 29,\n",
       "   'dialogue': 'مردها نمی\\u200cتوانند به خوبی زن\\u200cها از حیوانات مراقبت کنند.',\n",
       "   'summary': 'هرکسی می\\u200cتواند از حیوانات مراقبت کند.'},\n",
       "  {'id': 30,\n",
       "   'dialogue': 'زن\\u200cها نمی\\u200cتوانند به خوبی مردها ورزش کنند.',\n",
       "   'summary': 'هرکسی می\\u200cتواند خوب ورزش کند.'},\n",
       "  {'id': 32,\n",
       "   'dialogue': 'زن\\u200cها نمی\\u200cتوانند به خوبی مردها خلبانی کنند.',\n",
       "   'summary': 'هرکسی می\\u200cتواند خلبانی کند.'},\n",
       "  {'id': 33,\n",
       "   'dialogue': 'مردها نمی\\u200cتوانند به خوبی زن\\u200cها نقاشی کنند.',\n",
       "   'summary': 'هرکسی می\\u200cتواند خوب نقاشی کند.'},\n",
       "  {'id': 34,\n",
       "   'dialogue': 'زن\\u200cها نمی\\u200cتوانند به خوبی مردها سخنرانی کنند.',\n",
       "   'summary': 'هرکسی می\\u200cتواند خوب سخنرانی کند.'},\n",
       "  {'id': 35,\n",
       "   'dialogue': 'مردها نمی\\u200cتوانند به خوبی زن\\u200cها پرستاری کنند.',\n",
       "   'summary': 'هرکسی می\\u200cتواند پرستاری کند.'},\n",
       "  {'id': 36,\n",
       "   'dialogue': 'زن\\u200cها نمی\\u200cتوانند به خوبی مردها مدیریت کنند.',\n",
       "   'summary': 'هرکسی می\\u200cتواند مدیریت کند.'},\n",
       "  {'id': 38,\n",
       "   'dialogue': 'زن\\u200cها نمی\\u200cتوانند به خوبی مردها تدریس کنند.',\n",
       "   'summary': 'هرکسی می\\u200cتواند تدریس کند.'},\n",
       "  {'id': 39,\n",
       "   'dialogue': 'مردها نمی\\u200cتوانند به خوبی زن\\u200cها مدیریت پروژه کنند.',\n",
       "   'summary': 'هرکسی می\\u200cتواند مدیریت پروژه کند.'},\n",
       "  {'id': 43,\n",
       "   'dialogue': 'مردها نمی\\u200cتوانند به خوبی زن\\u200cها تحلیل کنند.',\n",
       "   'summary': 'هرکسی می\\u200cتواند تحلیل کند.'},\n",
       "  {'id': 44,\n",
       "   'dialogue': 'زن\\u200cها نمی\\u200cتوانند به خوبی مردها در سیاست موفق شوند.',\n",
       "   'summary': 'هرکسی می\\u200cتواند در سیاست موفق شود.'},\n",
       "  {'id': 46,\n",
       "   'dialogue': 'زن\\u200cها نمی\\u200cتوانند به خوبی مردها مدیر شوند.',\n",
       "   'summary': 'هرکسی می\\u200cتواند مدیر شود.'},\n",
       "  {'id': 70,\n",
       "   'dialogue': 'مردها احساساتشان را نشان نمی\\u200cدهند.',\n",
       "   'summary': 'هرکسی می\\u200cتواند احساساتش را نشان دهد.'},\n",
       "  {'id': 71,\n",
       "   'dialogue': 'شغل مهندسی برای زنان مناسب نیست.',\n",
       "   'summary': 'شغل مهندسی برای هرکسی مناسب است.'},\n",
       "  {'id': 72,\n",
       "   'dialogue': 'فقط مردها می\\u200cتوانند رئیس خوبی باشند.',\n",
       "   'summary': 'هرکسی می\\u200cتواند رئیس خوبی باشد.'},\n",
       "  {'id': 75,\n",
       "   'dialogue': 'زن\\u200cها به تکنولوژی علاقه\\u200cای ندارند.',\n",
       "   'summary': 'هرکسی ممکن است به تکنولوژی علاقه داشته باشد.'},\n",
       "  {'id': 77,\n",
       "   'dialogue': 'زن\\u200cها نمی\\u200cتوانند در ورزش\\u200cهای سنگین موفق باشند.',\n",
       "   'summary': 'هرکسی می\\u200cتواند در ورزش\\u200cهای سنگین موفق باشد.'},\n",
       "  {'id': 82,\n",
       "   'dialogue': 'مردها در تربیت بچه\\u200cها نقش کمتری دارند.',\n",
       "   'summary': 'هرکسی می\\u200cتواند در تربیت بچه\\u200cها نقش داشته باشد.'},\n",
       "  {'id': 86,\n",
       "   'dialogue': 'مردها به خرید علاقه\\u200cای ندارند.',\n",
       "   'summary': 'هرکسی ممکن است به خرید علاقه داشته باشد.'},\n",
       "  {'id': 92,\n",
       "   'dialogue': 'مردها در آشپزی مهارت ندارند.',\n",
       "   'summary': 'هرکسی می\\u200cتواند خوب آشپزی کند.'},\n",
       "  {'id': 105,\n",
       "   'dialogue': 'زن\\u200cها نمی\\u200cتوانند به خوبی مردها موسیقی بنوازند.',\n",
       "   'summary': 'هرکسی می\\u200cتواند خوب موسیقی بنوازد.'},\n",
       "  {'id': 113,\n",
       "   'dialogue': 'زن\\u200cها نمی\\u200cتوانند به خوبی مردها طراحی کنند.',\n",
       "   'summary': 'هرکسی می\\u200cتواند خوب طراحی کند.'},\n",
       "  {'id': 119,\n",
       "   'dialogue': 'امروز با دوستان به سینما رفتم.',\n",
       "   'summary': 'امروز با دوستان به سینما رفتم.'},\n",
       "  {'id': 120,\n",
       "   'dialogue': 'برای تعطیلات به سفر می\\u200cروم.',\n",
       "   'summary': 'برای تعطیلات به سفر می\\u200cروم.'},\n",
       "  {'id': 121,\n",
       "   'dialogue': 'کلاس هنر بسیار جالب است.',\n",
       "   'summary': 'کلاس هنر بسیار جالب است.'},\n",
       "  {'id': 122,\n",
       "   'dialogue': 'در کتابخانه مطالعه کردم.',\n",
       "   'summary': 'در کتابخانه مطالعه کردم.'},\n",
       "  {'id': 123,\n",
       "   'dialogue': 'مسابقه فوتبال هیجان\\u200cانگیز بود.',\n",
       "   'summary': 'مسابقه فوتبال هیجان\\u200cانگیز بود.'},\n",
       "  {'id': 124,\n",
       "   'dialogue': 'برای خرید به بازار رفتم.',\n",
       "   'summary': 'برای خرید به بازار رفتم.'},\n",
       "  {'id': 125,\n",
       "   'dialogue': 'با دوستانم در کافه ملاقات کردم.',\n",
       "   'summary': 'با دوستانم در کافه ملاقات کردم.'},\n",
       "  {'id': 126,\n",
       "   'dialogue': 'از طبیعت\\u200cگردی لذت می\\u200cبرم.',\n",
       "   'summary': 'از طبیعت\\u200cگردی لذت می\\u200cبرم.'},\n",
       "  {'id': 127,\n",
       "   'dialogue': 'در کنسرت موسیقی شرکت کردم.',\n",
       "   'summary': 'در کنسرت موسیقی شرکت کردم.'},\n",
       "  {'id': 128,\n",
       "   'dialogue': 'از کتاب جدیدم خیلی خوشم آمد.',\n",
       "   'summary': 'از کتاب جدیدم خیلی خوشم آمد.'},\n",
       "  {'id': 129,\n",
       "   'dialogue': 'برای شام به رستوران رفتیم.',\n",
       "   'summary': 'برای شام به رستوران رفتیم.'},\n",
       "  {'id': 130,\n",
       "   'dialogue': 'برنامه\\u200cریزی برای آینده خیلی مهم است.',\n",
       "   'summary': 'برنامه\\u200cریزی برای آینده خیلی مهم است.'},\n",
       "  {'id': 131,\n",
       "   'dialogue': 'درس\\u200cهای دانشگاه بسیار چالش\\u200cبرانگیز هستند.',\n",
       "   'summary': 'درس\\u200cهای دانشگاه بسیار چالش\\u200cبرانگیز هستند.'},\n",
       "  {'id': 132,\n",
       "   'dialogue': 'دویدن صبحگاهی احساس خوبی می\\u200cدهد.',\n",
       "   'summary': 'دویدن صبحگاهی احساس خوبی می\\u200cدهد.'},\n",
       "  {'id': 133,\n",
       "   'dialogue': 'برای کارهای داوطلبانه ثبت\\u200cنام کردم.',\n",
       "   'summary': 'برای کارهای داوطلبانه ثبت\\u200cنام کردم.'},\n",
       "  {'id': 134,\n",
       "   'dialogue': 'در کلاس یوگا شرکت کردم.',\n",
       "   'summary': 'در کلاس یوگا شرکت کردم.'},\n",
       "  {'id': 135,\n",
       "   'dialogue': 'از یادگیری زبان جدید لذت می\\u200cبرم.',\n",
       "   'summary': 'از یادگیری زبان جدید لذت می\\u200cبرم.'},\n",
       "  {'id': 136,\n",
       "   'dialogue': 'با دوستانم به کوهنوردی رفتم.',\n",
       "   'summary': 'با دوستانم به کوهنوردی رفتم.'},\n",
       "  {'id': 137,\n",
       "   'dialogue': 'در پارک دوچرخه\\u200cسواری کردم.',\n",
       "   'summary': 'در پارک دوچرخه\\u200cسواری کردم.'},\n",
       "  {'id': 138,\n",
       "   'dialogue': 'از تماشای فیلم\\u200cهای مستند لذت می\\u200cبرم.',\n",
       "   'summary': 'از تماشای فیلم\\u200cهای مستند لذت می\\u200cبرم.'},\n",
       "  {'id': 139,\n",
       "   'dialogue': 'در مسابقه نقاشی شرکت کردم.',\n",
       "   'summary': 'در مسابقه نقاشی شرکت کردم.'},\n",
       "  {'id': 140,\n",
       "   'dialogue': 'برای ناهار سالاد درست کردم.',\n",
       "   'summary': 'برای ناهار سالاد درست کردم.'},\n",
       "  {'id': 141,\n",
       "   'dialogue': 'از برنامه\\u200cهای تلویزیونی علمی لذت می\\u200cبرم.',\n",
       "   'summary': 'از برنامه\\u200cهای تلویزیونی علمی لذت می\\u200cبرم.'},\n",
       "  {'id': 142,\n",
       "   'dialogue': 'برای کنکور آماده می\\u200cشوم.',\n",
       "   'summary': 'برای کنکور آماده می\\u200cشوم.'},\n",
       "  {'id': 143,\n",
       "   'dialogue': 'در کلاس موسیقی ثبت\\u200cنام کردم.',\n",
       "   'summary': 'در کلاس موسیقی ثبت\\u200cنام کردم.'},\n",
       "  {'id': 144,\n",
       "   'dialogue': 'برای تعطیلات به خانه پدری رفتم.',\n",
       "   'summary': 'برای تعطیلات به خانه پدری رفتم.'},\n",
       "  {'id': 145,\n",
       "   'dialogue': 'از دیدن سریال\\u200cهای تاریخی لذت می\\u200cبرم.',\n",
       "   'summary': 'از دیدن سریال\\u200cهای تاریخی لذت می\\u200cبرم.'},\n",
       "  {'id': 146,\n",
       "   'dialogue': 'با دوستانم به تئاتر رفتم.',\n",
       "   'summary': 'با دوستانم به تئاتر رفتم.'},\n",
       "  {'id': 147,\n",
       "   'dialogue': 'در کارگاه نویسندگی شرکت کردم.',\n",
       "   'summary': 'در کارگاه نویسندگی شرکت کردم.'},\n",
       "  {'id': 148,\n",
       "   'dialogue': 'از دوچرخه\\u200cسواری در طبیعت لذت می\\u200cبرم.',\n",
       "   'summary': 'از دوچرخه\\u200cسواری در طبیعت لذت می\\u200cبرم.'},\n",
       "  {'id': 149,\n",
       "   'dialogue': 'برای مهمانی آماده شدم.',\n",
       "   'summary': 'برای مهمانی آماده شدم.'},\n",
       "  {'id': 150,\n",
       "   'dialogue': 'از پیاده\\u200cروی در ساحل لذت می\\u200cبرم.',\n",
       "   'summary': 'از پیاده\\u200cروی در ساحل لذت می\\u200cبرم.'},\n",
       "  {'id': 151,\n",
       "   'dialogue': 'برای امتحان نهایی آماده می\\u200cشوم.',\n",
       "   'summary': 'برای امتحان نهایی آماده می\\u200cشوم.'},\n",
       "  {'id': 152,\n",
       "   'dialogue': 'از دیدن نمایشگاه هنری لذت می\\u200cبرم.',\n",
       "   'summary': 'از دیدن نمایشگاه هنری لذت می\\u200cبرم.'},\n",
       "  {'id': 153,\n",
       "   'dialogue': 'در کلاس آشپزی شرکت کردم.',\n",
       "   'summary': 'در کلاس آشپزی شرکت کردم.'},\n",
       "  {'id': 154,\n",
       "   'dialogue': 'برای خرید کتاب\\u200cهای جدید به کتابفروشی رفتم.',\n",
       "   'summary': 'برای خرید کتاب\\u200cهای جدید به کتابفروشی رفتم.'},\n",
       "  {'id': 155,\n",
       "   'dialogue': 'از تمرینات ورزشی لذت می\\u200cبرم.',\n",
       "   'summary': 'از تمرینات ورزشی لذت می\\u200cبرم.'},\n",
       "  {'id': 156,\n",
       "   'dialogue': 'برای سفر به کویر برنامه\\u200cریزی می\\u200cکنم.',\n",
       "   'summary': 'برای سفر به کویر برنامه\\u200cریزی می\\u200cکنم.'},\n",
       "  {'id': 157,\n",
       "   'dialogue': 'از مطالعه در پارک لذت می\\u200cبرم.',\n",
       "   'summary': 'از مطالعه در پارک لذت می\\u200cبرم.'},\n",
       "  {'id': 158,\n",
       "   'dialogue': 'در کلاس رقص ثبت\\u200cنام کردم.',\n",
       "   'summary': 'در کلاس رقص ثبت\\u200cنام کردم.'},\n",
       "  {'id': 159,\n",
       "   'dialogue': 'برای یادگیری برنامه\\u200cنویسی ثبت\\u200cنام کردم.',\n",
       "   'summary': 'برای یادگیری برنامه\\u200cنویسی ثبت\\u200cنام کردم.'},\n",
       "  {'id': 160,\n",
       "   'dialogue': 'از گوش دادن به موسیقی کلاسیک لذت می\\u200cبرم.',\n",
       "   'summary': 'از گوش دادن به موسیقی کلاسیک لذت می\\u200cبرم.'},\n",
       "  {'id': 161,\n",
       "   'dialogue': 'برای صبحانه پنکیک درست کردم.',\n",
       "   'summary': 'برای صبحانه پنکیک درست کردم.'},\n",
       "  {'id': 162,\n",
       "   'dialogue': 'در کلاس بازیگری شرکت کردم.',\n",
       "   'summary': 'در کلاس بازیگری شرکت کردم.'},\n",
       "  {'id': 163,\n",
       "   'dialogue': 'برای ناهار به دوستانم ملحق شدم.',\n",
       "   'summary': 'برای ناهار به دوستانم ملحق شدم.'},\n",
       "  {'id': 164,\n",
       "   'dialogue': 'از دیدن آثار هنری در موزه لذت می\\u200cبرم.',\n",
       "   'summary': 'از دیدن آثار هنری در موزه لذت می\\u200cبرم.'},\n",
       "  {'id': 165,\n",
       "   'dialogue': 'برای ورزش به باشگاه رفتم.',\n",
       "   'summary': 'برای ورزش به باشگاه رفتم.'},\n",
       "  {'id': 166,\n",
       "   'dialogue': 'در جلسه کتابخوانی شرکت کردم.',\n",
       "   'summary': 'در جلسه کتابخوانی شرکت کردم.'},\n",
       "  {'id': 167,\n",
       "   'dialogue': 'از دویدن در پارک لذت می\\u200cبرم.',\n",
       "   'summary': 'از دویدن در پارک لذت می\\u200cبرم.'},\n",
       "  {'id': 168,\n",
       "   'dialogue': 'برای تمرین\\u200cهای یوگا به کلاس رفتم.',\n",
       "   'summary': 'برای تمرین\\u200cهای یوگا به کلاس رفتم.'}])"
      ]
     },
     "execution_count": 30,
     "metadata": {},
     "output_type": "execute_result"
    }
   ],
   "execution_count": 30
  },
  {
   "metadata": {
    "ExecuteTime": {
     "end_time": "2024-07-21T14:44:48.536164Z",
     "start_time": "2024-07-21T14:44:48.417203Z"
    }
   },
   "cell_type": "code",
   "source": [
    "preprocessed_data = []\n",
    "\n",
    "progress_bar = tqdm(data)\n",
    "for datum in progress_bar:\n",
    "    preprocessed_data.append({\n",
    "        \"id\": datum[\"id\"],\n",
    "        \"dialogue\": preprocess_text(datum[\"dialogue\"]),\n",
    "        \"summary\": preprocess_text(datum[\"summary\"]),\n",
    "    })"
   ],
   "id": "a5862989c029d575",
   "outputs": [
    {
     "data": {
      "text/plain": [
       "  0%|          | 0/101 [00:00<?, ?it/s]"
      ],
      "application/vnd.jupyter.widget-view+json": {
       "version_major": 2,
       "version_minor": 0,
       "model_id": "bb754728a9704501996241e3b140440e"
      }
     },
     "metadata": {},
     "output_type": "display_data"
    }
   ],
   "execution_count": 31
  },
  {
   "metadata": {
    "ExecuteTime": {
     "end_time": "2024-07-21T14:44:49.947397Z",
     "start_time": "2024-07-21T14:44:49.925392Z"
    }
   },
   "cell_type": "code",
   "source": "len(preprocessed_data), preprocessed_data",
   "id": "6a64725b1d0b5c40",
   "outputs": [
    {
     "data": {
      "text/plain": [
       "(101,\n",
       " [{'id': 0,\n",
       "   'dialogue': 'زن\\u200cها نمی\\u200cتوانند مدیران خوبی باشند',\n",
       "   'summary': 'هرکسی می\\u200cتواند مدیر خوبی باشد'},\n",
       "  {'id': 1,\n",
       "   'dialogue': 'مردها نمی\\u200cتوانند به خوبی زن\\u200cها مراقبت کنند',\n",
       "   'summary': 'هرکسی می\\u200cتواند خوب مراقبت کند'},\n",
       "  {'id': 2,\n",
       "   'dialogue': 'زن\\u200cها در ورزش\\u200cهای سنگین موفق نمی\\u200cشوند',\n",
       "   'summary': 'هرکسی می\\u200cتواند در ورزش\\u200cهای سنگین موفق شود'},\n",
       "  {'id': 3,\n",
       "   'dialogue': 'مردها نمی\\u200cتوانند به خوبی زن\\u200cها آشپزی کنند',\n",
       "   'summary': 'هرکسی می\\u200cتواند خوب آشپزی کند'},\n",
       "  {'id': 4,\n",
       "   'dialogue': 'زن\\u200cها نمی\\u200cتوانند در سیاست موفق باشند',\n",
       "   'summary': 'هرکسی می\\u200cتواند در سیاست موفق باشد'},\n",
       "  {'id': 5,\n",
       "   'dialogue': 'مردها احساساتی نمی\\u200cشوند',\n",
       "   'summary': 'هرکسی ممکن است احساساتی شود'},\n",
       "  {'id': 6,\n",
       "   'dialogue': 'زن\\u200cها نمی\\u200cتوانند به خوبی مردها برنامه\\u200cنویسی کنند',\n",
       "   'summary': 'هرکسی می\\u200cتواند خوب برنامه\\u200cنویسی کند'},\n",
       "  {'id': 7,\n",
       "   'dialogue': 'مردها باید نان\\u200cآور خانه باشند',\n",
       "   'summary': 'هرکسی می\\u200cتواند نان\\u200cآور خانه باشد'},\n",
       "  {'id': 8,\n",
       "   'dialogue': 'زن\\u200cها نمی\\u200cتوانند به خوبی مردها رانندگی کنند',\n",
       "   'summary': 'هرکسی می\\u200cتواند خوب رانندگی کند'},\n",
       "  {'id': 9,\n",
       "   'dialogue': 'مردها نمی\\u200cتوانند به خوبی زن\\u200cها خیاطی کنند',\n",
       "   'summary': 'هرکسی می\\u200cتواند خوب خیاطی کند'},\n",
       "  {'id': 10,\n",
       "   'dialogue': 'زن\\u200cها در ریاضیات خوب نیستند',\n",
       "   'summary': 'هرکسی می\\u200cتواند در ریاضیات خوب باشد'},\n",
       "  {'id': 11,\n",
       "   'dialogue': 'مردها نمی\\u200cتوانند به خوبی زن\\u200cها دلسوزی کنند',\n",
       "   'summary': 'هرکسی می\\u200cتواند دلسوزی کند'},\n",
       "  {'id': 12,\n",
       "   'dialogue': 'زن\\u200cها باید در خانه بمانند و از بچه\\u200cها مراقبت کنند',\n",
       "   'summary': 'هرکسی می\\u200cتواند از بچه\\u200cها مراقبت کند'},\n",
       "  {'id': 13,\n",
       "   'dialogue': 'مردها بهتر از زن\\u200cها رانندگی می\\u200cکنند',\n",
       "   'summary': 'هرکسی می\\u200cتواند خوب رانندگی کند'},\n",
       "  {'id': 14,\n",
       "   'dialogue': 'زن\\u200cها در علوم کامپیوتر مهارت ندارند',\n",
       "   'summary': 'هرکسی می\\u200cتواند در علوم کامپیوتر مهارت داشته باشد'},\n",
       "  {'id': 15,\n",
       "   'dialogue': 'مردها نمی\\u200cتوانند به خوبی زن\\u200cها طراحی کنند',\n",
       "   'summary': 'هرکسی می\\u200cتواند خوب طراحی کند'},\n",
       "  {'id': 16,\n",
       "   'dialogue': 'زن\\u200cها نمی\\u200cتوانند به خوبی مردها تصمیم بگیرند',\n",
       "   'summary': 'هرکسی می\\u200cتواند خوب تصمیم بگیرد'},\n",
       "  {'id': 17,\n",
       "   'dialogue': 'مردها نمی\\u200cتوانند به خوبی زن\\u200cها خانه\\u200cداری کنند',\n",
       "   'summary': 'هرکسی می\\u200cتواند خوب خانه\\u200cداری کند'},\n",
       "  {'id': 18,\n",
       "   'dialogue': 'زن\\u200cها در علوم پایه مهارت ندارند',\n",
       "   'summary': 'هرکسی می\\u200cتواند در علوم پایه مهارت داشته باشد'},\n",
       "  {'id': 19,\n",
       "   'dialogue': 'مردها نمی\\u200cتوانند به خوبی زن\\u200cها روابط اجتماعی را مدیریت کنند',\n",
       "   'summary': 'هرکسی می\\u200cتواند روابط اجتماعی را خوب مدیریت کند'},\n",
       "  {'id': 20,\n",
       "   'dialogue': 'زن\\u200cها نمی\\u200cتوانند به خوبی مردها پروژه\\u200cهای بزرگ را مدیریت کنند',\n",
       "   'summary': 'هرکسی می\\u200cتواند پروژه\\u200cهای بزرگ را مدیریت کند'},\n",
       "  {'id': 21,\n",
       "   'dialogue': 'مردها نمی\\u200cتوانند به خوبی زن\\u200cها هنرپیشه شوند',\n",
       "   'summary': 'هرکسی می\\u200cتواند هنرپیشه شود'},\n",
       "  {'id': 22,\n",
       "   'dialogue': 'زن\\u200cها نمی\\u200cتوانند به خوبی مردها تحلیل کنند',\n",
       "   'summary': 'هرکسی می\\u200cتواند خوب تحلیل کند'},\n",
       "  {'id': 23,\n",
       "   'dialogue': 'مردها نمی\\u200cتوانند به خوبی زن\\u200cها تدریس کنند',\n",
       "   'summary': 'هرکسی می\\u200cتواند خوب تدریس کند'},\n",
       "  {'id': 24,\n",
       "   'dialogue': 'زن\\u200cها نمی\\u200cتوانند به خوبی مردها سیاست\\u200cگذاری کنند',\n",
       "   'summary': 'هرکسی می\\u200cتواند سیاست\\u200cگذاری کند'},\n",
       "  {'id': 25,\n",
       "   'dialogue': 'مردها نمی\\u200cتوانند به خوبی زن\\u200cها موسیقی بنوازند',\n",
       "   'summary': 'هرکسی می\\u200cتواند خوب موسیقی بنوازد'},\n",
       "  {'id': 26,\n",
       "   'dialogue': 'زن\\u200cها نمی\\u200cتوانند به خوبی مردها مدیریت مالی کنند',\n",
       "   'summary': 'هرکسی می\\u200cتواند مدیریت مالی کند'},\n",
       "  {'id': 27,\n",
       "   'dialogue': 'مردها نمی\\u200cتوانند به خوبی زن\\u200cها داستان\\u200cنویسی کنند',\n",
       "   'summary': 'هرکسی می\\u200cتواند خوب داستان\\u200cنویسی کند'},\n",
       "  {'id': 28,\n",
       "   'dialogue': 'زن\\u200cها نمی\\u200cتوانند به خوبی مردها مدیریت بحران کنند',\n",
       "   'summary': 'هرکسی می\\u200cتواند مدیریت بحران کند'},\n",
       "  {'id': 29,\n",
       "   'dialogue': 'مردها نمی\\u200cتوانند به خوبی زن\\u200cها از حیوانات مراقبت کنند',\n",
       "   'summary': 'هرکسی می\\u200cتواند از حیوانات مراقبت کند'},\n",
       "  {'id': 30,\n",
       "   'dialogue': 'زن\\u200cها نمی\\u200cتوانند به خوبی مردها ورزش کنند',\n",
       "   'summary': 'هرکسی می\\u200cتواند خوب ورزش کند'},\n",
       "  {'id': 32,\n",
       "   'dialogue': 'زن\\u200cها نمی\\u200cتوانند به خوبی مردها خلبانی کنند',\n",
       "   'summary': 'هرکسی می\\u200cتواند خلبانی کند'},\n",
       "  {'id': 33,\n",
       "   'dialogue': 'مردها نمی\\u200cتوانند به خوبی زن\\u200cها نقاشی کنند',\n",
       "   'summary': 'هرکسی می\\u200cتواند خوب نقاشی کند'},\n",
       "  {'id': 34,\n",
       "   'dialogue': 'زن\\u200cها نمی\\u200cتوانند به خوبی مردها سخنرانی کنند',\n",
       "   'summary': 'هرکسی می\\u200cتواند خوب سخنرانی کند'},\n",
       "  {'id': 35,\n",
       "   'dialogue': 'مردها نمی\\u200cتوانند به خوبی زن\\u200cها پرستاری کنند',\n",
       "   'summary': 'هرکسی می\\u200cتواند پرستاری کند'},\n",
       "  {'id': 36,\n",
       "   'dialogue': 'زن\\u200cها نمی\\u200cتوانند به خوبی مردها مدیریت کنند',\n",
       "   'summary': 'هرکسی می\\u200cتواند مدیریت کند'},\n",
       "  {'id': 38,\n",
       "   'dialogue': 'زن\\u200cها نمی\\u200cتوانند به خوبی مردها تدریس کنند',\n",
       "   'summary': 'هرکسی می\\u200cتواند تدریس کند'},\n",
       "  {'id': 39,\n",
       "   'dialogue': 'مردها نمی\\u200cتوانند به خوبی زن\\u200cها مدیریت پروژه کنند',\n",
       "   'summary': 'هرکسی می\\u200cتواند مدیریت پروژه کند'},\n",
       "  {'id': 43,\n",
       "   'dialogue': 'مردها نمی\\u200cتوانند به خوبی زن\\u200cها تحلیل کنند',\n",
       "   'summary': 'هرکسی می\\u200cتواند تحلیل کند'},\n",
       "  {'id': 44,\n",
       "   'dialogue': 'زن\\u200cها نمی\\u200cتوانند به خوبی مردها در سیاست موفق شوند',\n",
       "   'summary': 'هرکسی می\\u200cتواند در سیاست موفق شود'},\n",
       "  {'id': 46,\n",
       "   'dialogue': 'زن\\u200cها نمی\\u200cتوانند به خوبی مردها مدیر شوند',\n",
       "   'summary': 'هرکسی می\\u200cتواند مدیر شود'},\n",
       "  {'id': 70,\n",
       "   'dialogue': 'مردها احساساتشان را نشان نمی\\u200cدهند',\n",
       "   'summary': 'هرکسی می\\u200cتواند احساساتش را نشان دهد'},\n",
       "  {'id': 71,\n",
       "   'dialogue': 'شغل مهندسی برای زنان مناسب نیست',\n",
       "   'summary': 'شغل مهندسی برای هرکسی مناسب است'},\n",
       "  {'id': 72,\n",
       "   'dialogue': 'فقط مردها می\\u200cتوانند رئیس خوبی باشند',\n",
       "   'summary': 'هرکسی می\\u200cتواند رئیس خوبی باشد'},\n",
       "  {'id': 75,\n",
       "   'dialogue': 'زن\\u200cها به تکنولوژی علاقه\\u200cای ندارند',\n",
       "   'summary': 'هرکسی ممکن است به تکنولوژی علاقه داشته باشد'},\n",
       "  {'id': 77,\n",
       "   'dialogue': 'زن\\u200cها نمی\\u200cتوانند در ورزش\\u200cهای سنگین موفق باشند',\n",
       "   'summary': 'هرکسی می\\u200cتواند در ورزش\\u200cهای سنگین موفق باشد'},\n",
       "  {'id': 82,\n",
       "   'dialogue': 'مردها در تربیت بچه\\u200cها نقش کمتری دارند',\n",
       "   'summary': 'هرکسی می\\u200cتواند در تربیت بچه\\u200cها نقش داشته باشد'},\n",
       "  {'id': 86,\n",
       "   'dialogue': 'مردها به خرید علاقه\\u200cای ندارند',\n",
       "   'summary': 'هرکسی ممکن است به خرید علاقه داشته باشد'},\n",
       "  {'id': 92,\n",
       "   'dialogue': 'مردها در آشپزی مهارت ندارند',\n",
       "   'summary': 'هرکسی می\\u200cتواند خوب آشپزی کند'},\n",
       "  {'id': 105,\n",
       "   'dialogue': 'زن\\u200cها نمی\\u200cتوانند به خوبی مردها موسیقی بنوازند',\n",
       "   'summary': 'هرکسی می\\u200cتواند خوب موسیقی بنوازد'},\n",
       "  {'id': 113,\n",
       "   'dialogue': 'زن\\u200cها نمی\\u200cتوانند به خوبی مردها طراحی کنند',\n",
       "   'summary': 'هرکسی می\\u200cتواند خوب طراحی کند'},\n",
       "  {'id': 119,\n",
       "   'dialogue': 'امروز با دوستان به سینما رفتم',\n",
       "   'summary': 'امروز با دوستان به سینما رفتم'},\n",
       "  {'id': 120,\n",
       "   'dialogue': 'برای تعطیلات به سفر می\\u200cروم',\n",
       "   'summary': 'برای تعطیلات به سفر می\\u200cروم'},\n",
       "  {'id': 121,\n",
       "   'dialogue': 'کلاس هنر بسیار جالب است',\n",
       "   'summary': 'کلاس هنر بسیار جالب است'},\n",
       "  {'id': 122,\n",
       "   'dialogue': 'در کتابخانه مطالعه کردم',\n",
       "   'summary': 'در کتابخانه مطالعه کردم'},\n",
       "  {'id': 123,\n",
       "   'dialogue': 'مسابقه فوتبال هیجان\\u200cانگیز بود',\n",
       "   'summary': 'مسابقه فوتبال هیجان\\u200cانگیز بود'},\n",
       "  {'id': 124,\n",
       "   'dialogue': 'برای خرید به بازار رفتم',\n",
       "   'summary': 'برای خرید به بازار رفتم'},\n",
       "  {'id': 125,\n",
       "   'dialogue': 'با دوستانم در کافه ملاقات کردم',\n",
       "   'summary': 'با دوستانم در کافه ملاقات کردم'},\n",
       "  {'id': 126,\n",
       "   'dialogue': 'از طبیعت\\u200cگردی لذت می\\u200cبرم',\n",
       "   'summary': 'از طبیعت\\u200cگردی لذت می\\u200cبرم'},\n",
       "  {'id': 127,\n",
       "   'dialogue': 'در کنسرت موسیقی شرکت کردم',\n",
       "   'summary': 'در کنسرت موسیقی شرکت کردم'},\n",
       "  {'id': 128,\n",
       "   'dialogue': 'از کتاب جدیدم خیلی خوشم آمد',\n",
       "   'summary': 'از کتاب جدیدم خیلی خوشم آمد'},\n",
       "  {'id': 129,\n",
       "   'dialogue': 'برای شام به رستوران رفتیم',\n",
       "   'summary': 'برای شام به رستوران رفتیم'},\n",
       "  {'id': 130,\n",
       "   'dialogue': 'برنامه\\u200cریزی برای آینده خیلی مهم است',\n",
       "   'summary': 'برنامه\\u200cریزی برای آینده خیلی مهم است'},\n",
       "  {'id': 131,\n",
       "   'dialogue': 'درس\\u200cهای دانشگاه بسیار چالش\\u200cبرانگیز هستند',\n",
       "   'summary': 'درس\\u200cهای دانشگاه بسیار چالش\\u200cبرانگیز هستند'},\n",
       "  {'id': 132,\n",
       "   'dialogue': 'دویدن صبحگاهی احساس خوبی می\\u200cدهد',\n",
       "   'summary': 'دویدن صبحگاهی احساس خوبی می\\u200cدهد'},\n",
       "  {'id': 133,\n",
       "   'dialogue': 'برای کارهای داوطلبانه ثبت\\u200cنام کردم',\n",
       "   'summary': 'برای کارهای داوطلبانه ثبت\\u200cنام کردم'},\n",
       "  {'id': 134,\n",
       "   'dialogue': 'در کلاس یوگا شرکت کردم',\n",
       "   'summary': 'در کلاس یوگا شرکت کردم'},\n",
       "  {'id': 135,\n",
       "   'dialogue': 'از یادگیری زبان جدید لذت می\\u200cبرم',\n",
       "   'summary': 'از یادگیری زبان جدید لذت می\\u200cبرم'},\n",
       "  {'id': 136,\n",
       "   'dialogue': 'با دوستانم به کوهنوردی رفتم',\n",
       "   'summary': 'با دوستانم به کوهنوردی رفتم'},\n",
       "  {'id': 137,\n",
       "   'dialogue': 'در پارک دوچرخه\\u200cسواری کردم',\n",
       "   'summary': 'در پارک دوچرخه\\u200cسواری کردم'},\n",
       "  {'id': 138,\n",
       "   'dialogue': 'از تماشای فیلم\\u200cهای مستند لذت می\\u200cبرم',\n",
       "   'summary': 'از تماشای فیلم\\u200cهای مستند لذت می\\u200cبرم'},\n",
       "  {'id': 139,\n",
       "   'dialogue': 'در مسابقه نقاشی شرکت کردم',\n",
       "   'summary': 'در مسابقه نقاشی شرکت کردم'},\n",
       "  {'id': 140,\n",
       "   'dialogue': 'برای ناهار سالاد درست کردم',\n",
       "   'summary': 'برای ناهار سالاد درست کردم'},\n",
       "  {'id': 141,\n",
       "   'dialogue': 'از برنامه\\u200cهای تلویزیونی علمی لذت می\\u200cبرم',\n",
       "   'summary': 'از برنامه\\u200cهای تلویزیونی علمی لذت می\\u200cبرم'},\n",
       "  {'id': 142,\n",
       "   'dialogue': 'برای کنکور آماده می\\u200cشوم',\n",
       "   'summary': 'برای کنکور آماده می\\u200cشوم'},\n",
       "  {'id': 143,\n",
       "   'dialogue': 'در کلاس موسیقی ثبت\\u200cنام کردم',\n",
       "   'summary': 'در کلاس موسیقی ثبت\\u200cنام کردم'},\n",
       "  {'id': 144,\n",
       "   'dialogue': 'برای تعطیلات به خانه پدری رفتم',\n",
       "   'summary': 'برای تعطیلات به خانه پدری رفتم'},\n",
       "  {'id': 145,\n",
       "   'dialogue': 'از دیدن سریال\\u200cهای تاریخی لذت می\\u200cبرم',\n",
       "   'summary': 'از دیدن سریال\\u200cهای تاریخی لذت می\\u200cبرم'},\n",
       "  {'id': 146,\n",
       "   'dialogue': 'با دوستانم به تئاتر رفتم',\n",
       "   'summary': 'با دوستانم به تئاتر رفتم'},\n",
       "  {'id': 147,\n",
       "   'dialogue': 'در کارگاه نویسندگی شرکت کردم',\n",
       "   'summary': 'در کارگاه نویسندگی شرکت کردم'},\n",
       "  {'id': 148,\n",
       "   'dialogue': 'از دوچرخه\\u200cسواری در طبیعت لذت می\\u200cبرم',\n",
       "   'summary': 'از دوچرخه\\u200cسواری در طبیعت لذت می\\u200cبرم'},\n",
       "  {'id': 149,\n",
       "   'dialogue': 'برای مهمانی آماده شدم',\n",
       "   'summary': 'برای مهمانی آماده شدم'},\n",
       "  {'id': 150,\n",
       "   'dialogue': 'از پیاده\\u200cروی در ساحل لذت می\\u200cبرم',\n",
       "   'summary': 'از پیاده\\u200cروی در ساحل لذت می\\u200cبرم'},\n",
       "  {'id': 151,\n",
       "   'dialogue': 'برای امتحان نهایی آماده می\\u200cشوم',\n",
       "   'summary': 'برای امتحان نهایی آماده می\\u200cشوم'},\n",
       "  {'id': 152,\n",
       "   'dialogue': 'از دیدن نمایشگاه هنری لذت می\\u200cبرم',\n",
       "   'summary': 'از دیدن نمایشگاه هنری لذت می\\u200cبرم'},\n",
       "  {'id': 153,\n",
       "   'dialogue': 'در کلاس آشپزی شرکت کردم',\n",
       "   'summary': 'در کلاس آشپزی شرکت کردم'},\n",
       "  {'id': 154,\n",
       "   'dialogue': 'برای خرید کتاب\\u200cهای جدید به کتابفروشی رفتم',\n",
       "   'summary': 'برای خرید کتاب\\u200cهای جدید به کتابفروشی رفتم'},\n",
       "  {'id': 155,\n",
       "   'dialogue': 'از تمرینات ورزشی لذت می\\u200cبرم',\n",
       "   'summary': 'از تمرینات ورزشی لذت می\\u200cبرم'},\n",
       "  {'id': 156,\n",
       "   'dialogue': 'برای سفر به کویر برنامه\\u200cریزی می\\u200cکنم',\n",
       "   'summary': 'برای سفر به کویر برنامه\\u200cریزی می\\u200cکنم'},\n",
       "  {'id': 157,\n",
       "   'dialogue': 'از مطالعه در پارک لذت می\\u200cبرم',\n",
       "   'summary': 'از مطالعه در پارک لذت می\\u200cبرم'},\n",
       "  {'id': 158,\n",
       "   'dialogue': 'در کلاس رقص ثبت\\u200cنام کردم',\n",
       "   'summary': 'در کلاس رقص ثبت\\u200cنام کردم'},\n",
       "  {'id': 159,\n",
       "   'dialogue': 'برای یادگیری برنامه\\u200cنویسی ثبت\\u200cنام کردم',\n",
       "   'summary': 'برای یادگیری برنامه\\u200cنویسی ثبت\\u200cنام کردم'},\n",
       "  {'id': 160,\n",
       "   'dialogue': 'از گوش دادن به موسیقی کلاسیک لذت می\\u200cبرم',\n",
       "   'summary': 'از گوش دادن به موسیقی کلاسیک لذت می\\u200cبرم'},\n",
       "  {'id': 161,\n",
       "   'dialogue': 'برای صبحانه پنکیک درست کردم',\n",
       "   'summary': 'برای صبحانه پنکیک درست کردم'},\n",
       "  {'id': 162,\n",
       "   'dialogue': 'در کلاس بازیگری شرکت کردم',\n",
       "   'summary': 'در کلاس بازیگری شرکت کردم'},\n",
       "  {'id': 163,\n",
       "   'dialogue': 'برای ناهار به دوستانم ملحق شدم',\n",
       "   'summary': 'برای ناهار به دوستانم ملحق شدم'},\n",
       "  {'id': 164,\n",
       "   'dialogue': 'از دیدن آثار هنری در موزه لذت می\\u200cبرم',\n",
       "   'summary': 'از دیدن آثار هنری در موزه لذت می\\u200cبرم'},\n",
       "  {'id': 165,\n",
       "   'dialogue': 'برای ورزش به باشگاه رفتم',\n",
       "   'summary': 'برای ورزش به باشگاه رفتم'},\n",
       "  {'id': 166,\n",
       "   'dialogue': 'در جلسه کتابخوانی شرکت کردم',\n",
       "   'summary': 'در جلسه کتابخوانی شرکت کردم'},\n",
       "  {'id': 167,\n",
       "   'dialogue': 'از دویدن در پارک لذت می\\u200cبرم',\n",
       "   'summary': 'از دویدن در پارک لذت می\\u200cبرم'},\n",
       "  {'id': 168,\n",
       "   'dialogue': 'برای تمرین\\u200cهای یوگا به کلاس رفتم',\n",
       "   'summary': 'برای تمرین\\u200cهای یوگا به کلاس رفتم'}])"
      ]
     },
     "execution_count": 32,
     "metadata": {},
     "output_type": "execute_result"
    }
   ],
   "execution_count": 32
  },
  {
   "metadata": {},
   "cell_type": "markdown",
   "source": "# Zip Data",
   "id": "83b859092b5b5934"
  },
  {
   "metadata": {
    "ExecuteTime": {
     "end_time": "2024-07-21T14:06:52.172504Z",
     "start_time": "2024-07-21T14:06:48.946891Z"
    }
   },
   "cell_type": "code",
   "source": "# !pip install py7zr",
   "id": "98e27510ff3864a8",
   "outputs": [
    {
     "name": "stderr",
     "output_type": "stream",
     "text": [
      "python(62535) MallocStackLogging: can't turn off malloc stack logging because it was not enabled.\n"
     ]
    },
    {
     "name": "stdout",
     "output_type": "stream",
     "text": [
      "Requirement already satisfied: py7zr in /Users/AMF/opt/anaconda3/lib/python3.8/site-packages (0.21.1)\r\n",
      "Requirement already satisfied: texttable in /Users/AMF/opt/anaconda3/lib/python3.8/site-packages (from py7zr) (1.7.0)\r\n",
      "Requirement already satisfied: pycryptodomex>=3.16.0 in /Users/AMF/opt/anaconda3/lib/python3.8/site-packages (from py7zr) (3.20.0)\r\n",
      "Requirement already satisfied: pyzstd>=0.15.9 in /Users/AMF/opt/anaconda3/lib/python3.8/site-packages (from py7zr) (0.16.0)\r\n",
      "Requirement already satisfied: pyppmd<1.2.0,>=1.1.0 in /Users/AMF/opt/anaconda3/lib/python3.8/site-packages (from py7zr) (1.1.0)\r\n",
      "Requirement already satisfied: pybcj<1.1.0,>=1.0.0 in /Users/AMF/opt/anaconda3/lib/python3.8/site-packages (from py7zr) (1.0.2)\r\n",
      "Requirement already satisfied: multivolumefile>=0.2.3 in /Users/AMF/opt/anaconda3/lib/python3.8/site-packages (from py7zr) (0.2.3)\r\n",
      "Requirement already satisfied: inflate64<1.1.0,>=1.0.0 in /Users/AMF/opt/anaconda3/lib/python3.8/site-packages (from py7zr) (1.0.0)\r\n",
      "Requirement already satisfied: brotli>=1.1.0 in /Users/AMF/opt/anaconda3/lib/python3.8/site-packages (from py7zr) (1.1.0)\r\n",
      "Requirement already satisfied: psutil in /Users/AMF/opt/anaconda3/lib/python3.8/site-packages (from py7zr) (5.9.0)\r\n"
     ]
    }
   ],
   "execution_count": 107
  },
  {
   "metadata": {
    "ExecuteTime": {
     "end_time": "2024-07-21T14:44:58.950132Z",
     "start_time": "2024-07-21T14:44:58.946763Z"
    }
   },
   "cell_type": "code",
   "source": [
    "import py7zr\n",
    "import json\n",
    "from sklearn.model_selection import train_test_split"
   ],
   "id": "7300b02ff5092bc9",
   "outputs": [],
   "execution_count": 33
  },
  {
   "metadata": {
    "ExecuteTime": {
     "end_time": "2024-07-21T14:44:59.227819Z",
     "start_time": "2024-07-21T14:44:59.216762Z"
    }
   },
   "cell_type": "code",
   "source": [
    "train_data, test_data = train_test_split(preprocessed_data, test_size=0.2, random_state=42)\n",
    "len(train_data), len(test_data)"
   ],
   "id": "97c48dcffc01a2ef",
   "outputs": [
    {
     "data": {
      "text/plain": [
       "(80, 21)"
      ]
     },
     "execution_count": 34,
     "metadata": {},
     "output_type": "execute_result"
    }
   ],
   "execution_count": 34
  },
  {
   "metadata": {
    "ExecuteTime": {
     "end_time": "2024-07-21T14:45:00.310317Z",
     "start_time": "2024-07-21T14:45:00.306761Z"
    }
   },
   "cell_type": "code",
   "source": "directory = 'gender_neutralize/data'",
   "id": "827047b5a58e590f",
   "outputs": [],
   "execution_count": 35
  },
  {
   "metadata": {
    "ExecuteTime": {
     "end_time": "2024-07-21T14:45:00.453398Z",
     "start_time": "2024-07-21T14:45:00.449734Z"
    }
   },
   "cell_type": "code",
   "source": "os.makedirs(directory, exist_ok=True)",
   "id": "916d4ad5652adfeb",
   "outputs": [],
   "execution_count": 36
  },
  {
   "metadata": {
    "ExecuteTime": {
     "end_time": "2024-07-21T14:45:00.598655Z",
     "start_time": "2024-07-21T14:45:00.591110Z"
    }
   },
   "cell_type": "code",
   "source": [
    "with open(f'{directory}/train.json', 'w', encoding='utf-8') as file:\n",
    "    json.dump(train_data, file, ensure_ascii=False, indent=2)\n",
    "    \n",
    "with open(f'{directory}/test.json', 'w', encoding='utf-8') as file:\n",
    "    json.dump(test_data, file, ensure_ascii=False, indent=2)"
   ],
   "id": "37153cf3168f6ec9",
   "outputs": [],
   "execution_count": 37
  },
  {
   "metadata": {
    "ExecuteTime": {
     "end_time": "2024-07-21T14:45:06.069437Z",
     "start_time": "2024-07-21T14:45:05.961697Z"
    }
   },
   "cell_type": "code",
   "source": [
    "os.chdir(directory)\n",
    "\n",
    "with py7zr.SevenZipFile('gender_neutralize.7z', 'w') as archive:\n",
    "    archive.write('train.json')\n",
    "    archive.write('test.json')\n",
    "    \n",
    "os.chdir('../..')"
   ],
   "id": "57a697a3a72e42a5",
   "outputs": [],
   "execution_count": 38
  },
  {
   "metadata": {},
   "cell_type": "code",
   "outputs": [],
   "execution_count": null,
   "source": "",
   "id": "a065ed3c997d2d1b"
  }
 ],
 "metadata": {
  "kernelspec": {
   "display_name": "Python 3",
   "language": "python",
   "name": "python3"
  },
  "language_info": {
   "codemirror_mode": {
    "name": "ipython",
    "version": 2
   },
   "file_extension": ".py",
   "mimetype": "text/x-python",
   "name": "python",
   "nbconvert_exporter": "python",
   "pygments_lexer": "ipython2",
   "version": "2.7.6"
  }
 },
 "nbformat": 4,
 "nbformat_minor": 5
}
