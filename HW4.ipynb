{
 "cells": [
  {
   "metadata": {},
   "cell_type": "markdown",
   "source": "# X Crawler",
   "id": "b2c434a04e97305e"
  },
  {
   "metadata": {},
   "cell_type": "markdown",
   "source": "With help of [this link](https://github.com/godkingjay/selenium-twitter-scraper).",
   "id": "e38849d7473860c2"
  },
  {
   "cell_type": "code",
   "id": "initial_id",
   "metadata": {
    "collapsed": true,
    "ExecuteTime": {
     "end_time": "2024-07-18T12:01:03.408966Z",
     "start_time": "2024-07-18T12:00:53.158202Z"
    }
   },
   "source": [
    "import configparser\n",
    "import os\n",
    "import pandas as pd\n",
    "import re\n",
    "from hazm import Normalizer\n",
    "from tqdm.notebook import tqdm"
   ],
   "outputs": [],
   "execution_count": 1
  },
  {
   "metadata": {
    "ExecuteTime": {
     "end_time": "2024-07-18T12:01:03.421154Z",
     "start_time": "2024-07-18T12:01:03.410911Z"
    }
   },
   "cell_type": "code",
   "source": [
    "config = configparser.ConfigParser()\n",
    "config.read('.env')\n",
    "config = config['TWITTER']\n",
    "config"
   ],
   "id": "9d777407ff862e1f",
   "outputs": [
    {
     "data": {
      "text/plain": [
       "<Section: TWITTER>"
      ]
     },
     "execution_count": 2,
     "metadata": {},
     "output_type": "execute_result"
    }
   ],
   "execution_count": 2
  },
  {
   "metadata": {
    "ExecuteTime": {
     "end_time": "2024-07-18T12:03:04.256200Z",
     "start_time": "2024-07-18T12:01:17.053046Z"
    }
   },
   "cell_type": "code",
   "source": [
    "try:\n",
    "    os.mkdir('tweets')\n",
    "except FileExistsError:\n",
    "    print('tweets directory already exists')\n",
    "os.chdir('selenium-twitter-scraper')\n",
    "\n",
    "base_command = f'python scraper --user=@{config[\"TWITTER_USERNAME\"]} --password={config[\"TWITTER_PASSWORD\"]} --top '\n",
    "os.system(base_command + '--tweets 5 --hashtag \"فمنیست\"')\n",
    "os.system(base_command + '--tweets 5 --query \"فقط زن\"')\n",
    "os.system(base_command + '--tweets 5 --query \"فقط مرد\"')\n",
    "\n",
    "os.system('cp -r tweets ../')\n",
    "os.chdir('..')"
   ],
   "id": "938d9f0f5d3a58d1",
   "outputs": [
    {
     "name": "stdout",
     "output_type": "stream",
     "text": [
      "tweets directory already exists\n",
      "Loading .env file\n",
      "Loaded .env file\n",
      "\n",
      "\n",
      "Initializing Twitter Scraper...\n",
      "Setup WebDriver...\n",
      "Initializing FirefoxDriver...\n",
      "WebDriver Setup Complete\n",
      "\n",
      "Logging in to Twitter...\n",
      "\n",
      "Login Successful\n",
      "\n",
      "Scraping Top Tweets from #فمنیست...\n",
      "Progress: [[========================================]] 100.00% 5 of 5                                                  \n",
      "Scraping Complete\n",
      "Tweets: 5 out of 5\n",
      "\n",
      "Saving Tweets to CSV...\n",
      "CSV Saved: ./tweets/2024-07-18_15-31-52_tweets_1-5.csv\n",
      "Loading .env file\n",
      "Loaded .env file\n",
      "\n",
      "\n",
      "Initializing Twitter Scraper...\n",
      "Setup WebDriver...\n",
      "Initializing FirefoxDriver...\n",
      "WebDriver Setup Complete\n",
      "\n",
      "Logging in to Twitter...\n",
      "\n",
      "Login Successful\n",
      "\n",
      "Scraping Top Tweets from فقط زن search...\n",
      "Progress: [[========================================]] 100.00% 5 of 5                                                  \n",
      "Scraping Complete\n",
      "Tweets: 5 out of 5\n",
      "\n",
      "Saving Tweets to CSV...\n",
      "CSV Saved: ./tweets/2024-07-18_15-32-28_tweets_1-5.csv\n",
      "Loading .env file\n",
      "Loaded .env file\n",
      "\n",
      "\n",
      "Initializing Twitter Scraper...\n",
      "Setup WebDriver...\n",
      "Initializing FirefoxDriver...\n",
      "WebDriver Setup Complete\n",
      "\n",
      "Logging in to Twitter...\n",
      "\n",
      "Login Successful\n",
      "\n",
      "Scraping Top Tweets from فقط مرد search...\n",
      "Progress: [[========================================]] 100.00% 5 of 5                                                  \n",
      "Scraping Complete\n",
      "Tweets: 5 out of 5\n",
      "\n",
      "Saving Tweets to CSV...\n",
      "CSV Saved: ./tweets/2024-07-18_15-33-03_tweets_1-5.csv\n"
     ]
    }
   ],
   "execution_count": 3
  },
  {
   "metadata": {
    "ExecuteTime": {
     "end_time": "2024-07-18T12:04:48.750356Z",
     "start_time": "2024-07-18T12:04:48.745055Z"
    }
   },
   "cell_type": "code",
   "source": [
    "tweets_files = os.listdir('tweets')\n",
    "tweets_files = [tweets_file for tweets_file in tweets_files if tweets_file.endswith('.csv')]\n",
    "tweets_files = sorted(tweets_files)\n",
    "tweets_files"
   ],
   "id": "c0c18ab5c4b0c2ab",
   "outputs": [
    {
     "data": {
      "text/plain": [
       "['2024-07-18_15-31-52_tweets_1-5.csv',\n",
       " '2024-07-18_15-32-28_tweets_1-5.csv',\n",
       " '2024-07-18_15-33-03_tweets_1-5.csv']"
      ]
     },
     "execution_count": 9,
     "metadata": {},
     "output_type": "execute_result"
    }
   ],
   "execution_count": 9
  },
  {
   "metadata": {
    "ExecuteTime": {
     "end_time": "2024-07-18T12:04:54.790665Z",
     "start_time": "2024-07-18T12:04:54.748490Z"
    }
   },
   "cell_type": "code",
   "source": [
    "tweets = []\n",
    "\n",
    "for tweets_file in tweets_files:\n",
    "    current_file = pd.read_csv(f'tweets/{tweets_file}')\n",
    "    current_file = current_file['Content'].tolist()\n",
    "    tweets += current_file\n",
    "\n",
    "tweets"
   ],
   "id": "89137a5b112df400",
   "outputs": [
    {
     "data": {
      "text/plain": [
       "['زنان #فمنیست',\n",
       " 'عرض ادب به #فمنیست های از «تورک بودن خود شرمنده» آزربایجان ',\n",
       " 'تیپیکال #لیبرال و #فمنیست و #چپ...!',\n",
       " '#حقوق_زنان در فرقه منحوس #رجوی#فمنیست ها و مدعیان حقوق زن چرا صداشون در نمیاد#Palestine',\n",
       " 'پاچه گرفتن از صفات بارز #فمنیست هاست ',\n",
       " 'حالا پس از یکسال،علینژاد نه تنها انصراف نداده بلکه با تاسیس یک موسسه بهمراه نازنین بنیادی و زکا و چند تن دیگر،راه دریافت غرامت را سهل نموده تا نشان دهد، #زن_زندگى_آزادى فقط یک کاسبی بود و بس\\nمعلوم نیست چی میزنه این ریختی شده',\n",
       " 'خونه بدون زن این شکلیه، فقط کافیه\\u200c تمیزگونه زندگی کنیم!',\n",
       " 'فقط یک زن می\\u200cتواند اینقدر مهربان باشد!\\n\\nزنان هزارستان باید سطح جهان احترام و حرمت شود.\\n\\nمادر\\u200c معنوی مهاجران. تولدت مبارک خانوم مرکل',\n",
       " '۲۱ نکته Dark روان زنانرشتو۱- گریه کردن مقابل یک دختر مانند خونریزی در مقابل کوسه است ۲- اگر میخواید یک دختر بشناسید به رفتارش نگاه کنید نه گفتارش ( چون اکثر اوقات دروغ میگن ) \\n۳-اگر میخواید در بحث و جدل با یک زن پیروز بشید فقط سکوت کنید و نتیجه حیرت انگیزش ببینید',\n",
       " 'خواستین بفهمین برای یه زن چقدر مهمین به این توجه کنید\\u200cکه زن\\u200cها اگر یکی رو بخوان براشون\\u200cمهم نیست زن داره دوست دختر داره بچه داره شکمش گنده است بوی عرق می\\u200cده کچله بی\\u200cسواده فقط کافیه بخوان … بقیه حرفا *س و شعره برای حفظ ظاهر \\n\\n(عکس تزئینی است)',\n",
       " 'مرد فقط ایک غسل سے  پاک ہو جاتا ہے۔\\nصدیوں مثال بنتا ہے بنتِ ہوا کا ماضی#اردو_زبان',\n",
       " 'فقط کافیه مرد نباشی و شیعه !\\n\\nتبریک میگم شما الان ۱۰ امتیاز تو کابینه رئیس جمهور سایه(ظریف) داری :)',\n",
       " 'توییتی بسیار زیبا و آموزنده از امین آقا، مهندس سازه\\u200cی مملکت. فقط یه\\u200cچیزی، یک مرد واقعی قبل از همه\\u200cی این چیزا املای انگلیسیش رو تقویت می\\u200cکنه.\\nDesinger :)))))))))',\n",
       " 'مولان؛ خودش را به شکل یک مرد جا می\\u200cزند و تصمیم می\\u200cگیرد به جای پدرش به خدمت اجباری برود. شجاعت مولان بعد از این تصمیم به سرعت به محک گذاشته می\\u200cشود اما او موفق می\\u200cشود دشمنانش را فقط با شجاعت شکست بدهد.',\n",
       " 'آیا اسلام به مرد و زن صادر شده یا فقط برای زنان  ؟ وقتی زن تجاوز گروهی میشود کجاست ملا وقتی پیش چشم شوهرش تجاوز میشود کجاست ملا حق تعلیم ندارن کجاست ملا در زندان زنان برهنه میشوند کجاست ملا ؟ یا اسلام فقط برای زن است .وقتی یک ملایی کثیف لواطت میکند با بچه ها کجاست اسلام ملا ها ؟']"
      ]
     },
     "execution_count": 10,
     "metadata": {},
     "output_type": "execute_result"
    }
   ],
   "execution_count": 10
  },
  {
   "metadata": {
    "ExecuteTime": {
     "end_time": "2024-07-18T12:06:57.589301Z",
     "start_time": "2024-07-18T12:06:57.586209Z"
    }
   },
   "cell_type": "code",
   "source": "# pd.DataFrame(tweets).to_csv('tweets/tweets.csv', index=False)",
   "id": "47ccc86273daadf8",
   "outputs": [],
   "execution_count": 15
  },
  {
   "metadata": {
    "ExecuteTime": {
     "end_time": "2024-07-18T12:06:57.824049Z",
     "start_time": "2024-07-18T12:06:57.819896Z"
    }
   },
   "cell_type": "code",
   "source": [
    "# tweets = pd.read_csv('tweets/tweets.csv')['0'].tolist()\n",
    "# tweets"
   ],
   "id": "fddb8f7be6c37389",
   "outputs": [],
   "execution_count": 16
  },
  {
   "metadata": {
    "ExecuteTime": {
     "end_time": "2024-07-18T12:07:03.319322Z",
     "start_time": "2024-07-18T12:07:03.310070Z"
    }
   },
   "cell_type": "code",
   "source": [
    "with open('stopwords/chars.txt', 'r', encoding='utf-8') as file:\n",
    "    chars_stop_words = ''.join(file.read().splitlines())\n",
    "\n",
    "chars_stop_words = chars_stop_words.replace('[', '\\[')\n",
    "chars_stop_words = chars_stop_words.replace(']', '\\]')\n",
    "chars_stop_words += '\\n\\t\\r'\n",
    "chars_pattern = re.compile(f'[{chars_stop_words}]')\n",
    "chars_pattern"
   ],
   "id": "afcaf2c066340fb2",
   "outputs": [
    {
     "data": {
      "text/plain": [
       "re.compile(r'[\\ufeff!\"#()*,-./:\\[\\]«»،؛؟۰۱۲۳۴۵۶۷۸۹…$ًٌٍَُِّْءٰٔ﷼\\n\\t\\r]',\n",
       "           re.UNICODE)"
      ]
     },
     "execution_count": 17,
     "metadata": {},
     "output_type": "execute_result"
    }
   ],
   "execution_count": 17
  },
  {
   "metadata": {
    "ExecuteTime": {
     "end_time": "2024-07-18T12:07:04.814358Z",
     "start_time": "2024-07-18T12:07:04.807765Z"
    }
   },
   "cell_type": "code",
   "source": [
    "# https://stackoverflow.com/questions/33404752/removing-emojis-from-a-string-in-python\n",
    "emojis_pattern = re.compile(\"[\"\n",
    "                            u\"\\U0001F600-\\U0001F64F\"  # emoticons\n",
    "                            u\"\\U0001F300-\\U0001F5FF\"  # symbols & pictographs\n",
    "                            u\"\\U0001F680-\\U0001F6FF\"  # transport & map symbols\n",
    "                            u\"\\U0001F1E0-\\U0001F1FF\"  # flags (iOS)\n",
    "                            \"]+\")\n",
    "emojis_pattern"
   ],
   "id": "295e94d9c1eadb57",
   "outputs": [
    {
     "data": {
      "text/plain": [
       "re.compile(r'[😀-🙏🌀-🗿🚀-\\U0001f6ff\\U0001f1e0-🇿]+', re.UNICODE)"
      ]
     },
     "execution_count": 18,
     "metadata": {},
     "output_type": "execute_result"
    }
   ],
   "execution_count": 18
  },
  {
   "metadata": {
    "ExecuteTime": {
     "end_time": "2024-07-18T12:07:07.260320Z",
     "start_time": "2024-07-18T12:07:05.872821Z"
    }
   },
   "cell_type": "code",
   "source": "normalizer = Normalizer()",
   "id": "8e780b46011ae9db",
   "outputs": [],
   "execution_count": 19
  },
  {
   "metadata": {
    "ExecuteTime": {
     "end_time": "2024-07-18T12:07:08.640272Z",
     "start_time": "2024-07-18T12:07:08.634513Z"
    }
   },
   "cell_type": "code",
   "source": [
    "def preprocess_tweet(tweet):\n",
    "    global chars_pattern, emojis_pattern, normalizer\n",
    "    \n",
    "    tweet = emojis_pattern.sub(r' ', tweet)\n",
    "    tweet = chars_pattern.sub(r' ', tweet)\n",
    "    tweet = normalizer.normalize(tweet)\n",
    "    \n",
    "    return tweet"
   ],
   "id": "a3bc504ef7737178",
   "outputs": [],
   "execution_count": 20
  },
  {
   "metadata": {
    "ExecuteTime": {
     "end_time": "2024-07-18T12:07:09.089999Z",
     "start_time": "2024-07-18T12:07:08.985174Z"
    }
   },
   "cell_type": "code",
   "source": [
    "progress_bar = tqdm(tweets)\n",
    "preprocessed_tweets = []\n",
    "for tweet in progress_bar:\n",
    "    preprocessed_tweets.append(preprocess_tweet(tweet))\n",
    "    \n",
    "preprocessed_tweets"
   ],
   "id": "5816a6d25f4f226d",
   "outputs": [
    {
     "data": {
      "text/plain": [
       "  0%|          | 0/15 [00:00<?, ?it/s]"
      ],
      "application/vnd.jupyter.widget-view+json": {
       "version_major": 2,
       "version_minor": 0,
       "model_id": "c342edf3b718487f8bb710865e6ca8cc"
      }
     },
     "metadata": {},
     "output_type": "display_data"
    },
    {
     "data": {
      "text/plain": [
       "['زنان فمنیست',\n",
       " 'عرض ادب به فمنیست\\u200cهای از تورک بودن خود شرمنده آزربایجان',\n",
       " 'تیپیکال لیبرال و فمنیست و چپ',\n",
       " 'حقوق_زنان در فرقه منحوس رجوی فمنیست\\u200cها و مدعیان حقوق زن چرا صداشون در نمیاد Palestine',\n",
       " 'پاچه گرفتن از صفات بارز فمنیست هاست',\n",
       " 'حالا پس از یکسال علینژاد نه\\u200cتنها انصراف نداده بلکه با تاسیس یک موسسه بهمراه نازنین بنیادی و زکا و چند تن دیگر راه دریافت غرامت را سهل نموده تا نشان دهد زن_زندگی_آزادی فقط یک کاسبی بود و بس معلوم نیست چی میزنه این ریختی شده',\n",
       " 'خونه بدون زن این شکلیه فقط کافیه تمیزگونه زندگی کنیم',\n",
       " 'فقط یک زن می\\u200cتواند اینقدر مهربان باشد زنان هزارستان باید سطح جهان احترام و حرمت شود مادر معنوی مهاجران تولدت مبارک خانوم مرکل',\n",
       " 'نکته Dark روان زنانرشتو گریه کردن مقابل یک دختر مانند خونریزی در مقابل کوسه است اگر میخواید یک دختر بشناسید به رفتارش نگاه کنید نه گفتارش چون اکثر اوقات دروغ میگن اگر میخواید در بحث و جدل با یک زن پیروز بشید فقط سکوت کنید و نتیجه حیرت انگیزش ببینید',\n",
       " 'خواستین بفهمین برای یه زن چقدر مهمین به این توجه کنید\\u200cکه زن\\u200cها اگر یکی رو بخوان براشون\\u200cمهم نیست زن داره دوست دختر داره بچه داره شکمش گنده است بوی عرق می\\u200cده کچله بی\\u200cسواده فقط کافیه بخوان بقیه حرفا س و شعره برای حفظ ظاهر عکس تزئینی است',\n",
       " 'مرد فقط ایک غسل سی پاک هو جاتا هی صدیون مثال بنتا هی بنت هوا کا ماضی اردو_زبان',\n",
       " 'فقط کافیه مرد نباشی و شیعه تبریک میگم شما الان امتیاز تو کابینه رئیس\\u200cجمهور سایه ظریف داری',\n",
       " 'توییتی بسیار زیبا و آموزنده از امین آقا مهندس سازه\\u200cی مملکت فقط یه\\u200cچیزی یک مرد واقعی قبل از همه\\u200cی این چیزا املای انگلیسیش رو تقویت می\\u200cکنه Desinger',\n",
       " 'مولان خودش را به شکل یک مرد جا می\\u200cزند و تصمیم می\\u200cگیرد به جای پدرش به خدمت اجباری برود شجاعت مولان بعد از این تصمیم به سرعت به محک گذاشته می\\u200cشود اما او موفق می\\u200cشود دشمنانش را فقط با شجاعت شکست بدهد',\n",
       " 'آیا اسلام به مرد و زن صادر شده یا فقط برای زنان وقتی زن تجاوز گروهی می\\u200cشود کجاست ملا وقتی پیش چشم شوهرش تجاوز می\\u200cشود کجاست ملا حق تعلیم ندارن کجاست ملا در زندان زنان برهنه می\\u200cشوند کجاست ملا یا اسلام فقط برای زن است وقتی یک ملایی کثیف لواطت می\\u200cکند با بچه\\u200cها کجاست اسلام ملا\\u200cها']"
      ]
     },
     "execution_count": 21,
     "metadata": {},
     "output_type": "execute_result"
    }
   ],
   "execution_count": 21
  },
  {
   "metadata": {},
   "cell_type": "markdown",
   "source": "# Remove Bias Using Llama",
   "id": "dc9595779edbff38"
  },
  {
   "metadata": {
    "ExecuteTime": {
     "end_time": "2024-07-18T22:37:47.930097Z",
     "start_time": "2024-07-18T22:37:47.923665Z"
    }
   },
   "cell_type": "code",
   "source": [
    "from transformers import AutoTokenizer, AutoModelForCausalLM\n",
    "from huggingface_hub import notebook_login"
   ],
   "id": "1c20634996281f1f",
   "outputs": [],
   "execution_count": 34
  },
  {
   "metadata": {
    "ExecuteTime": {
     "end_time": "2024-07-18T12:13:05.701369Z",
     "start_time": "2024-07-18T12:13:05.635058Z"
    }
   },
   "cell_type": "code",
   "source": "notebook_login()",
   "id": "e87cd37d950aa7fe",
   "outputs": [
    {
     "data": {
      "text/plain": [
       "VBox(children=(HTML(value='<center> <img\\nsrc=https://huggingface.co/front/assets/huggingface_logo-noborder.sv…"
      ],
      "application/vnd.jupyter.widget-view+json": {
       "version_major": 2,
       "version_minor": 0,
       "model_id": "dc4b2894fe094b349ae4c8908f1c3092"
      }
     },
     "metadata": {},
     "output_type": "display_data"
    }
   ],
   "execution_count": 28
  },
  {
   "metadata": {
    "ExecuteTime": {
     "end_time": "2024-07-19T09:02:26.085144Z",
     "start_time": "2024-07-19T09:02:25.970480Z"
    }
   },
   "cell_type": "code",
   "source": "model_name = 'meta-llama/Meta-Llama-3-8B'",
   "id": "8a304e6cfc0b94c4",
   "outputs": [],
   "execution_count": 38
  },
  {
   "metadata": {
    "ExecuteTime": {
     "end_time": "2024-07-19T09:02:28.233785Z",
     "start_time": "2024-07-19T09:02:26.353527Z"
    }
   },
   "cell_type": "code",
   "source": [
    "tokenizer = AutoTokenizer.from_pretrained(model_name)\n",
    "tokenizer"
   ],
   "id": "50a06f2177f5d902",
   "outputs": [
    {
     "data": {
      "text/plain": [
       "PreTrainedTokenizerFast(name_or_path='meta-llama/Meta-Llama-3-8B', vocab_size=128000, model_max_length=1000000000000000019884624838656, is_fast=True, padding_side='right', truncation_side='right', special_tokens={'bos_token': '<|begin_of_text|>', 'eos_token': '<|end_of_text|>'}, clean_up_tokenization_spaces=True)"
      ]
     },
     "execution_count": 39,
     "metadata": {},
     "output_type": "execute_result"
    }
   ],
   "execution_count": 39
  },
  {
   "metadata": {
    "ExecuteTime": {
     "start_time": "2024-07-19T09:02:29.866184Z"
    }
   },
   "cell_type": "code",
   "source": [
    "model = AutoModelForCausalLM.from_pretrained(model_name)\n",
    "model"
   ],
   "id": "6b25976a9a300cf3",
   "outputs": [
    {
     "data": {
      "text/plain": [
       "Downloading shards:   0%|          | 0/4 [00:00<?, ?it/s]"
      ],
      "application/vnd.jupyter.widget-view+json": {
       "version_major": 2,
       "version_minor": 0,
       "model_id": "842bbed12e8240dc885beb637396bd63"
      }
     },
     "metadata": {},
     "output_type": "display_data"
    },
    {
     "data": {
      "text/plain": [
       "model-00003-of-00004.safetensors:  27%|##6       | 1.32G/4.92G [00:00<?, ?B/s]"
      ],
      "application/vnd.jupyter.widget-view+json": {
       "version_major": 2,
       "version_minor": 0,
       "model_id": "dd9d7fb2a9f9416ab2c9b4eeb353fc96"
      }
     },
     "metadata": {},
     "output_type": "display_data"
    },
    {
     "data": {
      "text/plain": [
       "model-00004-of-00004.safetensors:   0%|          | 0.00/1.17G [00:00<?, ?B/s]"
      ],
      "application/vnd.jupyter.widget-view+json": {
       "version_major": 2,
       "version_minor": 0,
       "model_id": "c5c3e238405d4232960635cba7670b83"
      }
     },
     "metadata": {},
     "output_type": "display_data"
    }
   ],
   "execution_count": null
  },
  {
   "metadata": {},
   "cell_type": "code",
   "source": "",
   "id": "10e60e365d533a50",
   "outputs": [],
   "execution_count": null
  },
  {
   "metadata": {},
   "cell_type": "code",
   "source": "",
   "id": "5a416dbaf06b312f",
   "outputs": [],
   "execution_count": null
  },
  {
   "metadata": {},
   "cell_type": "code",
   "outputs": [],
   "execution_count": null,
   "source": "",
   "id": "a065ed3c997d2d1b"
  }
 ],
 "metadata": {
  "kernelspec": {
   "display_name": "Python 3",
   "language": "python",
   "name": "python3"
  },
  "language_info": {
   "codemirror_mode": {
    "name": "ipython",
    "version": 2
   },
   "file_extension": ".py",
   "mimetype": "text/x-python",
   "name": "python",
   "nbconvert_exporter": "python",
   "pygments_lexer": "ipython2",
   "version": "2.7.6"
  }
 },
 "nbformat": 4,
 "nbformat_minor": 5
}
