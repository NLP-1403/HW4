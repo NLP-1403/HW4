{
 "cells": [
  {
   "metadata": {},
   "cell_type": "markdown",
   "source": "# X Crawler",
   "id": "b2c434a04e97305e"
  },
  {
   "metadata": {},
   "cell_type": "markdown",
   "source": "With help of [this link](https://github.com/umapornp/twitter-crawler).",
   "id": "e38849d7473860c2"
  },
  {
   "cell_type": "code",
   "id": "initial_id",
   "metadata": {
    "collapsed": true,
    "ExecuteTime": {
     "end_time": "2024-07-18T09:53:46.385964Z",
     "start_time": "2024-07-18T09:53:46.373103Z"
    }
   },
   "source": [
    "import os\n",
    "import json\n",
    "import pandas as pd\n",
    "import numpy as np\n",
    "import matplotlib.pyplot as plt\n",
    "from datetime import datetime\n",
    "from datetime import timedelta\n",
    "from datetime import date\n",
    "from datetime import time"
   ],
   "outputs": [],
   "execution_count": 66
  },
  {
   "metadata": {},
   "cell_type": "code",
   "outputs": [],
   "execution_count": null,
   "source": [
    "os.mkdir('tweets')\n",
    "os.chdir('selenium-twitter-scraper')\n",
    "\n",
    "os.system('python scraper -t 5 --hashtag \"فمنیست\" --top')\n",
    "os.system('python scraper -t 5 --query \"فقط زن\" --top')\n",
    "os.system('python scraper -t 5 --query \"فقط مرد\" --top')\n",
    "\n",
    "os.system('cp -r tweets ../')\n",
    "os.chdir('..')"
   ],
   "id": "938d9f0f5d3a58d1"
  },
  {
   "metadata": {},
   "cell_type": "code",
   "outputs": [],
   "execution_count": null,
   "source": "print()",
   "id": "c0c18ab5c4b0c2ab"
  }
 ],
 "metadata": {
  "kernelspec": {
   "display_name": "Python 3",
   "language": "python",
   "name": "python3"
  },
  "language_info": {
   "codemirror_mode": {
    "name": "ipython",
    "version": 2
   },
   "file_extension": ".py",
   "mimetype": "text/x-python",
   "name": "python",
   "nbconvert_exporter": "python",
   "pygments_lexer": "ipython2",
   "version": "2.7.6"
  }
 },
 "nbformat": 4,
 "nbformat_minor": 5
}
